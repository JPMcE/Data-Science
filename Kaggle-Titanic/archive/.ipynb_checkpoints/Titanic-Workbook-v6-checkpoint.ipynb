{
 "cells": [
  {
   "cell_type": "markdown",
   "id": "823a0ada",
   "metadata": {},
   "source": [
    "### Import Packages and Load Data"
   ]
  },
  {
   "cell_type": "code",
   "execution_count": 1,
   "id": "fc7b3cfe",
   "metadata": {},
   "outputs": [],
   "source": [
    "import numpy as np\n",
    "import seaborn as sns\n",
    "import pandas as pd\n",
    "import matplotlib.pyplot as plt\n",
    "%matplotlib inline\n",
    "\n",
    "pd.set_option('display.max_rows', 500)\n",
    "pd.set_option('display.max_columns', 500)"
   ]
  },
  {
   "cell_type": "code",
   "execution_count": 2,
   "id": "5377cf7a",
   "metadata": {},
   "outputs": [],
   "source": [
    "from sklearn.model_selection import train_test_split, RandomizedSearchCV, GridSearchCV\n",
    "from sklearn.metrics import accuracy_score\n",
    "from sklearn.linear_model import LogisticRegression\n",
    "from sklearn.neighbors import KNeighborsClassifier\n",
    "from sklearn.ensemble import RandomForestClassifier\n",
    "from sklearn import preprocessing\n",
    "from sklearn import set_config\n",
    "from sklearn.preprocessing import OrdinalEncoder,OneHotEncoder, FunctionTransformer, StandardScaler\n",
    "from sklearn.pipeline import Pipeline\n",
    "from sklearn.compose import ColumnTransformer\n",
    "from sklearn.impute import SimpleImputer\n",
    "from sklearn.model_selection import cross_val_score,cross_validate\n",
    "from sklearn.ensemble import VotingClassifier\n",
    "import xgboost as xgb"
   ]
  },
  {
   "cell_type": "code",
   "execution_count": 3,
   "id": "8fe24d4c",
   "metadata": {},
   "outputs": [],
   "source": [
    "titanic_training = pd.read_csv('/Users/jpmcelyea/GIT_Code/Data-Science/Kaggle-Titanic/titanic/train.csv')"
   ]
  },
  {
   "cell_type": "code",
   "execution_count": 4,
   "id": "3c2458f0",
   "metadata": {},
   "outputs": [],
   "source": [
    "titanic_test = pd.read_csv('/Users/jpmcelyea/GIT_Code/Data-Science/Kaggle-Titanic/titanic/test.csv')"
   ]
  },
  {
   "cell_type": "markdown",
   "id": "b695afb7",
   "metadata": {},
   "source": [
    "### Data Preprocessing + Feature Engineering"
   ]
  },
  {
   "cell_type": "code",
   "execution_count": 5,
   "id": "cd876b10",
   "metadata": {},
   "outputs": [
    {
     "data": {
      "text/html": [
       "<div>\n",
       "<style scoped>\n",
       "    .dataframe tbody tr th:only-of-type {\n",
       "        vertical-align: middle;\n",
       "    }\n",
       "\n",
       "    .dataframe tbody tr th {\n",
       "        vertical-align: top;\n",
       "    }\n",
       "\n",
       "    .dataframe thead th {\n",
       "        text-align: right;\n",
       "    }\n",
       "</style>\n",
       "<table border=\"1\" class=\"dataframe\">\n",
       "  <thead>\n",
       "    <tr style=\"text-align: right;\">\n",
       "      <th></th>\n",
       "      <th>PassengerId</th>\n",
       "      <th>Survived</th>\n",
       "      <th>Pclass</th>\n",
       "      <th>Name</th>\n",
       "      <th>Sex</th>\n",
       "      <th>Age</th>\n",
       "      <th>SibSp</th>\n",
       "      <th>Parch</th>\n",
       "      <th>Ticket</th>\n",
       "      <th>Fare</th>\n",
       "      <th>Cabin</th>\n",
       "      <th>Embarked</th>\n",
       "    </tr>\n",
       "  </thead>\n",
       "  <tbody>\n",
       "    <tr>\n",
       "      <th>0</th>\n",
       "      <td>1</td>\n",
       "      <td>0</td>\n",
       "      <td>3</td>\n",
       "      <td>Braund, Mr. Owen Harris</td>\n",
       "      <td>male</td>\n",
       "      <td>22.0</td>\n",
       "      <td>1</td>\n",
       "      <td>0</td>\n",
       "      <td>A/5 21171</td>\n",
       "      <td>7.2500</td>\n",
       "      <td>NaN</td>\n",
       "      <td>S</td>\n",
       "    </tr>\n",
       "    <tr>\n",
       "      <th>1</th>\n",
       "      <td>2</td>\n",
       "      <td>1</td>\n",
       "      <td>1</td>\n",
       "      <td>Cumings, Mrs. John Bradley (Florence Briggs Th...</td>\n",
       "      <td>female</td>\n",
       "      <td>38.0</td>\n",
       "      <td>1</td>\n",
       "      <td>0</td>\n",
       "      <td>PC 17599</td>\n",
       "      <td>71.2833</td>\n",
       "      <td>C85</td>\n",
       "      <td>C</td>\n",
       "    </tr>\n",
       "    <tr>\n",
       "      <th>2</th>\n",
       "      <td>3</td>\n",
       "      <td>1</td>\n",
       "      <td>3</td>\n",
       "      <td>Heikkinen, Miss. Laina</td>\n",
       "      <td>female</td>\n",
       "      <td>26.0</td>\n",
       "      <td>0</td>\n",
       "      <td>0</td>\n",
       "      <td>STON/O2. 3101282</td>\n",
       "      <td>7.9250</td>\n",
       "      <td>NaN</td>\n",
       "      <td>S</td>\n",
       "    </tr>\n",
       "    <tr>\n",
       "      <th>3</th>\n",
       "      <td>4</td>\n",
       "      <td>1</td>\n",
       "      <td>1</td>\n",
       "      <td>Futrelle, Mrs. Jacques Heath (Lily May Peel)</td>\n",
       "      <td>female</td>\n",
       "      <td>35.0</td>\n",
       "      <td>1</td>\n",
       "      <td>0</td>\n",
       "      <td>113803</td>\n",
       "      <td>53.1000</td>\n",
       "      <td>C123</td>\n",
       "      <td>S</td>\n",
       "    </tr>\n",
       "    <tr>\n",
       "      <th>4</th>\n",
       "      <td>5</td>\n",
       "      <td>0</td>\n",
       "      <td>3</td>\n",
       "      <td>Allen, Mr. William Henry</td>\n",
       "      <td>male</td>\n",
       "      <td>35.0</td>\n",
       "      <td>0</td>\n",
       "      <td>0</td>\n",
       "      <td>373450</td>\n",
       "      <td>8.0500</td>\n",
       "      <td>NaN</td>\n",
       "      <td>S</td>\n",
       "    </tr>\n",
       "  </tbody>\n",
       "</table>\n",
       "</div>"
      ],
      "text/plain": [
       "   PassengerId  Survived  Pclass  \\\n",
       "0            1         0       3   \n",
       "1            2         1       1   \n",
       "2            3         1       3   \n",
       "3            4         1       1   \n",
       "4            5         0       3   \n",
       "\n",
       "                                                Name     Sex   Age  SibSp  \\\n",
       "0                            Braund, Mr. Owen Harris    male  22.0      1   \n",
       "1  Cumings, Mrs. John Bradley (Florence Briggs Th...  female  38.0      1   \n",
       "2                             Heikkinen, Miss. Laina  female  26.0      0   \n",
       "3       Futrelle, Mrs. Jacques Heath (Lily May Peel)  female  35.0      1   \n",
       "4                           Allen, Mr. William Henry    male  35.0      0   \n",
       "\n",
       "   Parch            Ticket     Fare Cabin Embarked  \n",
       "0      0         A/5 21171   7.2500   NaN        S  \n",
       "1      0          PC 17599  71.2833   C85        C  \n",
       "2      0  STON/O2. 3101282   7.9250   NaN        S  \n",
       "3      0            113803  53.1000  C123        S  \n",
       "4      0            373450   8.0500   NaN        S  "
      ]
     },
     "execution_count": 5,
     "metadata": {},
     "output_type": "execute_result"
    }
   ],
   "source": [
    "titanic_training.head()"
   ]
  },
  {
   "cell_type": "code",
   "execution_count": 6,
   "id": "d4ebcd44",
   "metadata": {},
   "outputs": [],
   "source": [
    "##Preprocessing and Feature Engineering\n",
    "\n",
    "titanic_training.set_index(\"PassengerId\", inplace=True)\n",
    "\n",
    "titanic_training[['Cabin1', 'Cabin2', 'Cabin3']] = titanic_training['Cabin'].\\\n",
    "                str.extract(r'(?P<Cabin1>[A-Z]+\\d+)\\s?(?P<Cabin2>[A-Z]+\\d+)?\\s?(?P<Cabin3>[A-Z]+\\d+)?')\n",
    "\n",
    "titanic_training['CabinLetter'] = titanic_training['Cabin1'].str.extract(r'(?P<Cabin1_Code>[A-Z]+)')\n",
    "\n",
    "titanic_training['Cabin1'] = np.where(titanic_training['Cabin1'].isnull(), 0, 1)\n",
    "titanic_training['Cabin2'] = np.where(titanic_training['Cabin2'].isnull(), 0, 1)\n",
    "titanic_training['Cabin3'] = np.where(titanic_training['Cabin3'].isnull(), 0, 1)\n",
    "titanic_training['CabinNum'] = titanic_training['Cabin1'] + titanic_training['Cabin2'] + titanic_training['Cabin3']\n",
    "\n",
    "titanic_training['CabinLetter'] = titanic_training['CabinLetter'].fillna(value = 'N')\n",
    "\n",
    "titanic_training[['TicketLetter', 'TicketNum']] = titanic_training['Ticket'].str.split(\" \", 1, expand=True)\n",
    "\n",
    "titanic_training[['TicketLetter', 'TicketNum']] = titanic_training['Ticket'].\\\n",
    "                str.extract(r'([\\w\\/\\.]+)\\s(\\d+)')\n",
    "\n",
    "titanic_training['TicketSpecial'] = np.where(pd.isna(titanic_training['TicketLetter']), 0 ,1)\n",
    "\n",
    "titanic_training[['NameTitle']] = titanic_training['Name'].\\\n",
    "                str.extract(r'((?<=\\,\\s)[\\w]+)')\n",
    "\n",
    "titanic_training['NameTitle'] = np.where(titanic_training['NameTitle'].\\\n",
    "                                         isin(['Mr', 'Mrs', 'Miss']), 'Standard', 'Elite')\n",
    "\n",
    "for column in ('Sex', 'Embarked','CabinLetter','Pclass', 'NameTitle'):\n",
    "    titanic_training[column] = titanic_training[column].astype('category')\n",
    "    \n",
    "titanic_training.\\\n",
    "drop(columns=['Cabin1', 'Cabin2','Cabin3','Ticket', 'Name','Cabin','TicketLetter', 'TicketNum'], inplace = True)"
   ]
  },
  {
   "cell_type": "code",
   "execution_count": 7,
   "id": "8e2b1fef",
   "metadata": {},
   "outputs": [
    {
     "name": "stdout",
     "output_type": "stream",
     "text": [
      "Age         177\n",
      "Embarked      2\n",
      "dtype: int64\n",
      "Age         0.198653\n",
      "Embarked    0.002245\n",
      "dtype: float64\n"
     ]
    }
   ],
   "source": [
    "nullseries = titanic_training.isnull().sum()\n",
    "print(nullseries[nullseries > 0])\n",
    "\n",
    "nullseries = titanic_training.isnull().sum()/len(titanic_training)\n",
    "print(nullseries[nullseries > 0])"
   ]
  },
  {
   "cell_type": "code",
   "execution_count": 8,
   "id": "aef466c9",
   "metadata": {},
   "outputs": [],
   "source": [
    "#titanic_training.describe()\n",
    "#titanic_training.dtypes"
   ]
  },
  {
   "cell_type": "code",
   "execution_count": 9,
   "id": "23c6963e",
   "metadata": {},
   "outputs": [
    {
     "data": {
      "text/html": [
       "<div>\n",
       "<style scoped>\n",
       "    .dataframe tbody tr th:only-of-type {\n",
       "        vertical-align: middle;\n",
       "    }\n",
       "\n",
       "    .dataframe tbody tr th {\n",
       "        vertical-align: top;\n",
       "    }\n",
       "\n",
       "    .dataframe thead th {\n",
       "        text-align: right;\n",
       "    }\n",
       "</style>\n",
       "<table border=\"1\" class=\"dataframe\">\n",
       "  <thead>\n",
       "    <tr style=\"text-align: right;\">\n",
       "      <th></th>\n",
       "      <th>Survived</th>\n",
       "      <th>Pclass</th>\n",
       "      <th>Sex</th>\n",
       "      <th>Age</th>\n",
       "      <th>SibSp</th>\n",
       "      <th>Parch</th>\n",
       "      <th>Fare</th>\n",
       "      <th>Embarked</th>\n",
       "      <th>CabinLetter</th>\n",
       "      <th>CabinNum</th>\n",
       "      <th>TicketSpecial</th>\n",
       "      <th>NameTitle</th>\n",
       "    </tr>\n",
       "    <tr>\n",
       "      <th>PassengerId</th>\n",
       "      <th></th>\n",
       "      <th></th>\n",
       "      <th></th>\n",
       "      <th></th>\n",
       "      <th></th>\n",
       "      <th></th>\n",
       "      <th></th>\n",
       "      <th></th>\n",
       "      <th></th>\n",
       "      <th></th>\n",
       "      <th></th>\n",
       "      <th></th>\n",
       "    </tr>\n",
       "  </thead>\n",
       "  <tbody>\n",
       "    <tr>\n",
       "      <th>1</th>\n",
       "      <td>0</td>\n",
       "      <td>3</td>\n",
       "      <td>male</td>\n",
       "      <td>22.0</td>\n",
       "      <td>1</td>\n",
       "      <td>0</td>\n",
       "      <td>7.2500</td>\n",
       "      <td>S</td>\n",
       "      <td>N</td>\n",
       "      <td>0</td>\n",
       "      <td>1</td>\n",
       "      <td>Standard</td>\n",
       "    </tr>\n",
       "    <tr>\n",
       "      <th>2</th>\n",
       "      <td>1</td>\n",
       "      <td>1</td>\n",
       "      <td>female</td>\n",
       "      <td>38.0</td>\n",
       "      <td>1</td>\n",
       "      <td>0</td>\n",
       "      <td>71.2833</td>\n",
       "      <td>C</td>\n",
       "      <td>C</td>\n",
       "      <td>1</td>\n",
       "      <td>1</td>\n",
       "      <td>Standard</td>\n",
       "    </tr>\n",
       "    <tr>\n",
       "      <th>3</th>\n",
       "      <td>1</td>\n",
       "      <td>3</td>\n",
       "      <td>female</td>\n",
       "      <td>26.0</td>\n",
       "      <td>0</td>\n",
       "      <td>0</td>\n",
       "      <td>7.9250</td>\n",
       "      <td>S</td>\n",
       "      <td>N</td>\n",
       "      <td>0</td>\n",
       "      <td>1</td>\n",
       "      <td>Standard</td>\n",
       "    </tr>\n",
       "    <tr>\n",
       "      <th>4</th>\n",
       "      <td>1</td>\n",
       "      <td>1</td>\n",
       "      <td>female</td>\n",
       "      <td>35.0</td>\n",
       "      <td>1</td>\n",
       "      <td>0</td>\n",
       "      <td>53.1000</td>\n",
       "      <td>S</td>\n",
       "      <td>C</td>\n",
       "      <td>1</td>\n",
       "      <td>0</td>\n",
       "      <td>Standard</td>\n",
       "    </tr>\n",
       "    <tr>\n",
       "      <th>5</th>\n",
       "      <td>0</td>\n",
       "      <td>3</td>\n",
       "      <td>male</td>\n",
       "      <td>35.0</td>\n",
       "      <td>0</td>\n",
       "      <td>0</td>\n",
       "      <td>8.0500</td>\n",
       "      <td>S</td>\n",
       "      <td>N</td>\n",
       "      <td>0</td>\n",
       "      <td>0</td>\n",
       "      <td>Standard</td>\n",
       "    </tr>\n",
       "  </tbody>\n",
       "</table>\n",
       "</div>"
      ],
      "text/plain": [
       "             Survived Pclass     Sex   Age  SibSp  Parch     Fare Embarked  \\\n",
       "PassengerId                                                                  \n",
       "1                   0      3    male  22.0      1      0   7.2500        S   \n",
       "2                   1      1  female  38.0      1      0  71.2833        C   \n",
       "3                   1      3  female  26.0      0      0   7.9250        S   \n",
       "4                   1      1  female  35.0      1      0  53.1000        S   \n",
       "5                   0      3    male  35.0      0      0   8.0500        S   \n",
       "\n",
       "            CabinLetter  CabinNum  TicketSpecial NameTitle  \n",
       "PassengerId                                                 \n",
       "1                     N         0              1  Standard  \n",
       "2                     C         1              1  Standard  \n",
       "3                     N         0              1  Standard  \n",
       "4                     C         1              0  Standard  \n",
       "5                     N         0              0  Standard  "
      ]
     },
     "execution_count": 9,
     "metadata": {},
     "output_type": "execute_result"
    }
   ],
   "source": [
    "titanic_training.head()"
   ]
  },
  {
   "cell_type": "markdown",
   "id": "90148baf",
   "metadata": {},
   "source": [
    "### Model Selection"
   ]
  },
  {
   "cell_type": "code",
   "execution_count": 10,
   "id": "a003378b",
   "metadata": {},
   "outputs": [],
   "source": [
    "X = titanic_training.drop('Survived', axis=1)\n",
    "y = titanic_training['Survived']"
   ]
  },
  {
   "cell_type": "code",
   "execution_count": 11,
   "id": "6db3d755",
   "metadata": {},
   "outputs": [],
   "source": [
    "train_X, test_X, train_y, test_y = train_test_split(X, y, test_size=0.3, random_state = 202)"
   ]
  },
  {
   "cell_type": "code",
   "execution_count": null,
   "id": "4bbd13ff",
   "metadata": {},
   "outputs": [],
   "source": []
  },
  {
   "cell_type": "code",
   "execution_count": null,
   "id": "85bb9b0a",
   "metadata": {},
   "outputs": [],
   "source": []
  },
  {
   "cell_type": "code",
   "execution_count": 12,
   "id": "7e946137",
   "metadata": {},
   "outputs": [],
   "source": [
    "knn_pipeline = Pipeline(steps =[\n",
    "    ['preprocessing', \n",
    "     ColumnTransformer(remainder='passthrough',\n",
    "     transformers=[\n",
    "             ('imputer', SimpleImputer(strategy='mean'), ['Age', 'Fare']),\n",
    "             ('dummies', OneHotEncoder(), X.select_dtypes(include=['category']).columns)\n",
    "              ])]\n",
    "    ,('scaler', StandardScaler())\n",
    "    ,('model', KNeighborsClassifier())\n",
    "    ])"
   ]
  },
  {
   "cell_type": "code",
   "execution_count": 13,
   "id": "8971e6f0",
   "metadata": {},
   "outputs": [
    {
     "data": {
      "text/plain": [
       "0.8137419354838709"
      ]
     },
     "execution_count": 13,
     "metadata": {},
     "output_type": "execute_result"
    }
   ],
   "source": [
    "scores = cross_val_score(knn_pipeline, train_X, train_y, \n",
    "                        scoring=('accuracy'), cv=5)\n",
    "\n",
    "scores.mean()"
   ]
  },
  {
   "cell_type": "code",
   "execution_count": 14,
   "id": "d89ec504",
   "metadata": {},
   "outputs": [
    {
     "data": {
      "text/plain": [
       "0.7723880597014925"
      ]
     },
     "execution_count": 14,
     "metadata": {},
     "output_type": "execute_result"
    }
   ],
   "source": [
    "knn_pipeline.fit(train_X, train_y)\n",
    "knn_pipeline.score(test_X, test_y)"
   ]
  },
  {
   "cell_type": "code",
   "execution_count": null,
   "id": "0b3be641",
   "metadata": {},
   "outputs": [],
   "source": []
  },
  {
   "cell_type": "code",
   "execution_count": null,
   "id": "4da1cb53",
   "metadata": {},
   "outputs": [],
   "source": []
  },
  {
   "cell_type": "code",
   "execution_count": 15,
   "id": "a16ccf9f",
   "metadata": {},
   "outputs": [],
   "source": [
    "rf_pipeline = Pipeline(steps =[\n",
    "    ['preprocessing', \n",
    "     ColumnTransformer(remainder='passthrough',\n",
    "     transformers=[\n",
    "             ('imputer', SimpleImputer(strategy='mean'), ['Age', 'Fare']),\n",
    "             ('dummies', OneHotEncoder(), X.select_dtypes(include=['category']).columns)\n",
    "              ])]\n",
    "    ,('model', RandomForestClassifier(random_state =123))\n",
    "    ])"
   ]
  },
  {
   "cell_type": "code",
   "execution_count": 16,
   "id": "a5b63b60",
   "metadata": {},
   "outputs": [
    {
     "data": {
      "text/plain": [
       "0.8057091653865847"
      ]
     },
     "execution_count": 16,
     "metadata": {},
     "output_type": "execute_result"
    }
   ],
   "source": [
    "scores = cross_val_score(rf_pipeline, train_X, train_y, \n",
    "                        scoring=('accuracy'), cv=10)\n",
    "scores.mean()"
   ]
  },
  {
   "cell_type": "code",
   "execution_count": 17,
   "id": "419b5d15",
   "metadata": {},
   "outputs": [
    {
     "data": {
      "text/plain": [
       "0.8059701492537313"
      ]
     },
     "execution_count": 17,
     "metadata": {},
     "output_type": "execute_result"
    }
   ],
   "source": [
    "rf_pipeline.fit(train_X, train_y)\n",
    "rf_pipeline.score(test_X, test_y)"
   ]
  },
  {
   "cell_type": "code",
   "execution_count": null,
   "id": "e13c7d36",
   "metadata": {},
   "outputs": [],
   "source": []
  },
  {
   "cell_type": "code",
   "execution_count": null,
   "id": "5b65733a",
   "metadata": {},
   "outputs": [],
   "source": []
  },
  {
   "cell_type": "code",
   "execution_count": 18,
   "id": "6fab59e5",
   "metadata": {},
   "outputs": [],
   "source": [
    "logit_pipeline = Pipeline(steps =[\n",
    "    ['preprocessing', \n",
    "     ColumnTransformer(remainder='passthrough',\n",
    "     transformers=[\n",
    "             ('imputer', SimpleImputer(strategy='mean'), ['Age', 'Fare']),\n",
    "             ('dummies', OneHotEncoder(), X.select_dtypes(include=['category']).columns)\n",
    "              ])]\n",
    "    ,('model', LogisticRegression(max_iter=1000,random_state=123))\n",
    "    ])"
   ]
  },
  {
   "cell_type": "code",
   "execution_count": 19,
   "id": "a3fff800",
   "metadata": {},
   "outputs": [
    {
     "data": {
      "text/plain": [
       "0.8299027137736814"
      ]
     },
     "execution_count": 19,
     "metadata": {},
     "output_type": "execute_result"
    }
   ],
   "source": [
    "scores = cross_val_score(logit_pipeline, train_X, train_y, \n",
    "                        scoring=('accuracy'), cv=10)\n",
    "scores.mean()"
   ]
  },
  {
   "cell_type": "code",
   "execution_count": 20,
   "id": "8f7c2ae7",
   "metadata": {},
   "outputs": [
    {
     "data": {
      "text/plain": [
       "0.7873134328358209"
      ]
     },
     "execution_count": 20,
     "metadata": {},
     "output_type": "execute_result"
    }
   ],
   "source": [
    "logit_pipeline.fit(train_X, train_y)\n",
    "logit_pipeline.score(test_X, test_y)"
   ]
  },
  {
   "cell_type": "code",
   "execution_count": null,
   "id": "09d9b8af",
   "metadata": {},
   "outputs": [],
   "source": []
  },
  {
   "cell_type": "code",
   "execution_count": null,
   "id": "5fa1ee8f",
   "metadata": {},
   "outputs": [],
   "source": []
  },
  {
   "cell_type": "code",
   "execution_count": 21,
   "id": "7566aad0",
   "metadata": {},
   "outputs": [],
   "source": [
    "xgb_pipeline = Pipeline(steps =[\n",
    "    ['preprocessing', \n",
    "     ColumnTransformer(remainder='passthrough',\n",
    "     transformers=[(\n",
    "             'dummies', OneHotEncoder(drop='first'), X.select_dtypes(include=['category']).columns)\n",
    "              ])]\n",
    "    ,('model', xgb.XGBClassifier(use_label_encoder=False, verbosity=0, random_state=123))\n",
    "    ])"
   ]
  },
  {
   "cell_type": "code",
   "execution_count": 22,
   "id": "52f795fe",
   "metadata": {},
   "outputs": [
    {
     "data": {
      "text/plain": [
       "0.8042754736303124"
      ]
     },
     "execution_count": 22,
     "metadata": {},
     "output_type": "execute_result"
    }
   ],
   "source": [
    "scores = cross_val_score(xgb_pipeline, train_X, train_y, \n",
    "                        scoring=('accuracy'), cv=10)\n",
    "scores.mean()"
   ]
  },
  {
   "cell_type": "code",
   "execution_count": 23,
   "id": "d99442bc",
   "metadata": {},
   "outputs": [
    {
     "data": {
      "text/plain": [
       "0.8059701492537313"
      ]
     },
     "execution_count": 23,
     "metadata": {},
     "output_type": "execute_result"
    }
   ],
   "source": [
    "xgb_pipeline.fit(train_X, train_y)\n",
    "xgb_pipeline.score(test_X, test_y)"
   ]
  },
  {
   "cell_type": "markdown",
   "id": "2ef3935a",
   "metadata": {},
   "source": [
    "### Tune the Model"
   ]
  },
  {
   "cell_type": "code",
   "execution_count": 24,
   "id": "e0d082f3",
   "metadata": {},
   "outputs": [],
   "source": [
    "param_grid = {'model__n_neighbors': list(range(1, 10))}"
   ]
  },
  {
   "cell_type": "code",
   "execution_count": 25,
   "id": "ab25b70a",
   "metadata": {},
   "outputs": [],
   "source": [
    "grid_knn = GridSearchCV(\n",
    "    estimator=knn_pipeline,\n",
    "    param_grid=param_grid,\n",
    "    n_jobs = -1,\n",
    "    scoring = 'accuracy',\n",
    "    cv=10)\n",
    "\n",
    "grid_knn.fit(train_X, train_y);"
   ]
  },
  {
   "cell_type": "code",
   "execution_count": 26,
   "id": "3792b775",
   "metadata": {},
   "outputs": [
    {
     "name": "stdout",
     "output_type": "stream",
     "text": [
      "0.8299283154121863\n",
      "{'model__n_neighbors': 5}\n",
      "0.7723880597014925\n"
     ]
    }
   ],
   "source": [
    "print(grid_knn.best_score_)\n",
    "print(grid_knn.best_params_)\n",
    "knn_model_best = grid_knn.best_estimator_;\n",
    "print(knn_model_best.score(test_X, test_y))"
   ]
  },
  {
   "cell_type": "code",
   "execution_count": null,
   "id": "d780fb4b",
   "metadata": {},
   "outputs": [],
   "source": []
  },
  {
   "cell_type": "code",
   "execution_count": null,
   "id": "9b68e5c8",
   "metadata": {},
   "outputs": [],
   "source": []
  },
  {
   "cell_type": "code",
   "execution_count": 27,
   "id": "58446eaf",
   "metadata": {},
   "outputs": [],
   "source": [
    "param_grid = {\n",
    "'model__n_estimators': [100,350,500],\n",
    "'model__max_features': ['log2','auto','sqrt'],\n",
    "'model__min_samples_leaf': list(range(2, 30)),\n",
    "'model__max_depth': list(range(1, 10))\n",
    "    \n",
    "}"
   ]
  },
  {
   "cell_type": "code",
   "execution_count": 28,
   "id": "5236543a",
   "metadata": {},
   "outputs": [],
   "source": [
    "random_rf = RandomizedSearchCV(\n",
    "        estimator=rf_pipeline,\n",
    "        param_distributions = param_grid, \n",
    "        n_iter = 25,\n",
    "        n_jobs= -1, \n",
    "        scoring='accuracy', \n",
    "        cv = 10)\n",
    "\n",
    "random_rf.fit(train_X, train_y);"
   ]
  },
  {
   "cell_type": "code",
   "execution_count": 29,
   "id": "3ef13c95",
   "metadata": {},
   "outputs": [
    {
     "name": "stdout",
     "output_type": "stream",
     "text": [
      "0.8219150025601639\n",
      "{'model__n_estimators': 500, 'model__min_samples_leaf': 3, 'model__max_features': 'auto', 'model__max_depth': 7}\n",
      "0.7761194029850746\n"
     ]
    }
   ],
   "source": [
    "print(random_rf.best_score_)\n",
    "print(random_rf.best_params_)\n",
    "random_rf_model_best = random_rf.best_estimator_;\n",
    "print(random_rf_model_best.score(test_X, test_y))"
   ]
  },
  {
   "cell_type": "code",
   "execution_count": null,
   "id": "3ef4c583",
   "metadata": {},
   "outputs": [],
   "source": []
  },
  {
   "cell_type": "code",
   "execution_count": null,
   "id": "a9127c0b",
   "metadata": {},
   "outputs": [],
   "source": []
  },
  {
   "cell_type": "code",
   "execution_count": 30,
   "id": "ac166ff2",
   "metadata": {},
   "outputs": [],
   "source": [
    "param_grid = {\n",
    "'model__n_estimators': [25,50,100],\n",
    "'model__max_features': ['sqrt'],\n",
    "'model__min_samples_leaf': [2,3,4,5,6,7,8],\n",
    "'model__max_depth': [4,5,6]\n",
    "}"
   ]
  },
  {
   "cell_type": "code",
   "execution_count": 31,
   "id": "71184c2c",
   "metadata": {},
   "outputs": [],
   "source": [
    "grid_rf = GridSearchCV(\n",
    "    estimator=rf_pipeline,\n",
    "    param_grid=param_grid,\n",
    "    n_jobs = -1,\n",
    "    scoring = 'accuracy',\n",
    "    cv=10)\n",
    "\n",
    "grid_rf.fit(train_X, train_y);"
   ]
  },
  {
   "cell_type": "code",
   "execution_count": 32,
   "id": "9ca9e821",
   "metadata": {},
   "outputs": [
    {
     "name": "stdout",
     "output_type": "stream",
     "text": [
      "0.8347414234511008\n",
      "{'model__max_depth': 4, 'model__max_features': 'sqrt', 'model__min_samples_leaf': 3, 'model__n_estimators': 50}\n",
      "0.7873134328358209\n"
     ]
    }
   ],
   "source": [
    "print(grid_rf.best_score_)\n",
    "print(grid_rf.best_params_)\n",
    "rf_model_best = grid_rf.best_estimator_;\n",
    "print(rf_model_best.score(test_X, test_y))"
   ]
  },
  {
   "cell_type": "code",
   "execution_count": null,
   "id": "f4ed240c",
   "metadata": {},
   "outputs": [],
   "source": []
  },
  {
   "cell_type": "code",
   "execution_count": null,
   "id": "7d46fed3",
   "metadata": {},
   "outputs": [],
   "source": []
  },
  {
   "cell_type": "code",
   "execution_count": 33,
   "id": "79905279",
   "metadata": {},
   "outputs": [],
   "source": [
    "param_grid = {'model__penalty' : ['l1', 'l2'],\n",
    "    'model__C' : np.logspace(-4, 4, 20),\n",
    "    'model__solver' : ['liblinear']}"
   ]
  },
  {
   "cell_type": "code",
   "execution_count": 34,
   "id": "c000c4be",
   "metadata": {},
   "outputs": [],
   "source": [
    "grid_logit = GridSearchCV(\n",
    "    estimator=logit_pipeline,\n",
    "    param_grid=param_grid,\n",
    "    n_jobs = -1,\n",
    "    scoring = 'accuracy',\n",
    "    cv=10)\n",
    "\n",
    "grid_logit.fit(train_X, train_y);"
   ]
  },
  {
   "cell_type": "code",
   "execution_count": 35,
   "id": "a5bb57f6",
   "metadata": {},
   "outputs": [
    {
     "name": "stdout",
     "output_type": "stream",
     "text": [
      "0.8331541218637992\n",
      "{'model__C': 4.281332398719396, 'model__penalty': 'l1', 'model__solver': 'liblinear'}\n",
      "0.7761194029850746\n"
     ]
    }
   ],
   "source": [
    "print(grid_logit.best_score_)\n",
    "print(grid_logit.best_params_)\n",
    "logit_model_best = grid_logit.best_estimator_;\n",
    "print(logit_model_best.score(test_X, test_y))"
   ]
  },
  {
   "cell_type": "code",
   "execution_count": null,
   "id": "607682b3",
   "metadata": {},
   "outputs": [],
   "source": []
  },
  {
   "cell_type": "code",
   "execution_count": null,
   "id": "f9398f70",
   "metadata": {},
   "outputs": [],
   "source": []
  },
  {
   "cell_type": "code",
   "execution_count": 36,
   "id": "c2301ace",
   "metadata": {},
   "outputs": [],
   "source": [
    "param_grid = {'model__learning_rate': np.arange(0.05, 1, 0.05),\n",
    "    'model__max_depth': np.arange(3, 10, 1),\n",
    "    'model__n_estimators': np.arange(50, 200, 50)}"
   ]
  },
  {
   "cell_type": "code",
   "execution_count": 37,
   "id": "283978cd",
   "metadata": {},
   "outputs": [],
   "source": [
    "random_xgb = RandomizedSearchCV(\n",
    "        estimator=xgb_pipeline,\n",
    "        param_distributions = param_grid, \n",
    "        n_iter = 25,\n",
    "        n_jobs= -1, \n",
    "        scoring='accuracy', \n",
    "        cv = 10)\n",
    "\n",
    "random_xgb.fit(train_X, train_y);"
   ]
  },
  {
   "cell_type": "code",
   "execution_count": 38,
   "id": "964c90b2",
   "metadata": {},
   "outputs": [
    {
     "name": "stdout",
     "output_type": "stream",
     "text": [
      "0.8363543266769072\n",
      "{'model__n_estimators': 100, 'model__max_depth': 3, 'model__learning_rate': 0.1}\n",
      "0.8097014925373134\n"
     ]
    }
   ],
   "source": [
    "print(random_xgb.best_score_)\n",
    "print(random_xgb.best_params_)\n",
    "random_xgb_model_best = random_xgb.best_estimator_;\n",
    "print(random_xgb_model_best.score(test_X, test_y))"
   ]
  },
  {
   "cell_type": "code",
   "execution_count": null,
   "id": "a3dbaa4c",
   "metadata": {},
   "outputs": [],
   "source": []
  },
  {
   "cell_type": "code",
   "execution_count": null,
   "id": "b5273ce1",
   "metadata": {},
   "outputs": [],
   "source": []
  },
  {
   "cell_type": "code",
   "execution_count": 39,
   "id": "3e6c76cf",
   "metadata": {},
   "outputs": [],
   "source": [
    "param_grid = {'model__learning_rate': [0.20, 0.25,0.40],\n",
    "    'model__max_depth': [2,3,4,5],\n",
    "    'model__n_estimators': [20,30,50,100]}"
   ]
  },
  {
   "cell_type": "code",
   "execution_count": 40,
   "id": "e1639239",
   "metadata": {},
   "outputs": [],
   "source": [
    "grid_xgb = GridSearchCV(\n",
    "    estimator=xgb_pipeline,\n",
    "    param_grid=param_grid,\n",
    "    n_jobs = -1,\n",
    "    scoring = 'accuracy',\n",
    "    cv=10)\n",
    "\n",
    "grid_xgb.fit(train_X, train_y);"
   ]
  },
  {
   "cell_type": "code",
   "execution_count": 41,
   "id": "1b0d5f3f",
   "metadata": {},
   "outputs": [
    {
     "name": "stdout",
     "output_type": "stream",
     "text": [
      "0.8475934459805428\n",
      "{'model__learning_rate': 0.2, 'model__max_depth': 2, 'model__n_estimators': 100}\n",
      "0.8097014925373134\n"
     ]
    }
   ],
   "source": [
    "print(grid_xgb.best_score_)\n",
    "print(grid_xgb.best_params_)\n",
    "xgb_model_best = grid_xgb.best_estimator_;\n",
    "print(xgb_model_best.score(test_X, test_y))"
   ]
  },
  {
   "cell_type": "markdown",
   "id": "98283900",
   "metadata": {},
   "source": [
    "### Create Ensemble Model"
   ]
  },
  {
   "cell_type": "code",
   "execution_count": 42,
   "id": "09ed9deb",
   "metadata": {},
   "outputs": [],
   "source": [
    "ensemble = VotingClassifier(estimators=[\n",
    "        ('knn', knn_model_best), \n",
    "        ('lr', logit_model_best), \n",
    "        ('rf', rf_model_best), \n",
    "        ('xgb', xgb_model_best)],\n",
    "        voting='soft')"
   ]
  },
  {
   "cell_type": "code",
   "execution_count": 43,
   "id": "59219c4e",
   "metadata": {},
   "outputs": [],
   "source": [
    "ensemble.fit(train_X, train_y);"
   ]
  },
  {
   "cell_type": "code",
   "execution_count": 44,
   "id": "1d96620e",
   "metadata": {},
   "outputs": [
    {
     "data": {
      "text/plain": [
       "0.8459805427547362"
      ]
     },
     "execution_count": 44,
     "metadata": {},
     "output_type": "execute_result"
    }
   ],
   "source": [
    "scores = cross_val_score(ensemble, train_X, train_y, \n",
    "                        scoring=('accuracy'), cv=10)\n",
    "scores.mean()"
   ]
  },
  {
   "cell_type": "code",
   "execution_count": 45,
   "id": "da89a7b1",
   "metadata": {},
   "outputs": [
    {
     "data": {
      "text/plain": [
       "0.7947761194029851"
      ]
     },
     "execution_count": 45,
     "metadata": {},
     "output_type": "execute_result"
    }
   ],
   "source": [
    "ensemble.score(test_X, test_y)"
   ]
  },
  {
   "cell_type": "markdown",
   "id": "22050e10",
   "metadata": {},
   "source": [
    "### Fit Model To Test Data"
   ]
  },
  {
   "cell_type": "code",
   "execution_count": 46,
   "id": "bc1c7a51",
   "metadata": {},
   "outputs": [
    {
     "data": {
      "text/html": [
       "<div>\n",
       "<style scoped>\n",
       "    .dataframe tbody tr th:only-of-type {\n",
       "        vertical-align: middle;\n",
       "    }\n",
       "\n",
       "    .dataframe tbody tr th {\n",
       "        vertical-align: top;\n",
       "    }\n",
       "\n",
       "    .dataframe thead th {\n",
       "        text-align: right;\n",
       "    }\n",
       "</style>\n",
       "<table border=\"1\" class=\"dataframe\">\n",
       "  <thead>\n",
       "    <tr style=\"text-align: right;\">\n",
       "      <th></th>\n",
       "      <th>PassengerId</th>\n",
       "      <th>Pclass</th>\n",
       "      <th>Name</th>\n",
       "      <th>Sex</th>\n",
       "      <th>Age</th>\n",
       "      <th>SibSp</th>\n",
       "      <th>Parch</th>\n",
       "      <th>Ticket</th>\n",
       "      <th>Fare</th>\n",
       "      <th>Cabin</th>\n",
       "      <th>Embarked</th>\n",
       "    </tr>\n",
       "  </thead>\n",
       "  <tbody>\n",
       "    <tr>\n",
       "      <th>0</th>\n",
       "      <td>892</td>\n",
       "      <td>3</td>\n",
       "      <td>Kelly, Mr. James</td>\n",
       "      <td>male</td>\n",
       "      <td>34.5</td>\n",
       "      <td>0</td>\n",
       "      <td>0</td>\n",
       "      <td>330911</td>\n",
       "      <td>7.8292</td>\n",
       "      <td>NaN</td>\n",
       "      <td>Q</td>\n",
       "    </tr>\n",
       "    <tr>\n",
       "      <th>1</th>\n",
       "      <td>893</td>\n",
       "      <td>3</td>\n",
       "      <td>Wilkes, Mrs. James (Ellen Needs)</td>\n",
       "      <td>female</td>\n",
       "      <td>47.0</td>\n",
       "      <td>1</td>\n",
       "      <td>0</td>\n",
       "      <td>363272</td>\n",
       "      <td>7.0000</td>\n",
       "      <td>NaN</td>\n",
       "      <td>S</td>\n",
       "    </tr>\n",
       "    <tr>\n",
       "      <th>2</th>\n",
       "      <td>894</td>\n",
       "      <td>2</td>\n",
       "      <td>Myles, Mr. Thomas Francis</td>\n",
       "      <td>male</td>\n",
       "      <td>62.0</td>\n",
       "      <td>0</td>\n",
       "      <td>0</td>\n",
       "      <td>240276</td>\n",
       "      <td>9.6875</td>\n",
       "      <td>NaN</td>\n",
       "      <td>Q</td>\n",
       "    </tr>\n",
       "    <tr>\n",
       "      <th>3</th>\n",
       "      <td>895</td>\n",
       "      <td>3</td>\n",
       "      <td>Wirz, Mr. Albert</td>\n",
       "      <td>male</td>\n",
       "      <td>27.0</td>\n",
       "      <td>0</td>\n",
       "      <td>0</td>\n",
       "      <td>315154</td>\n",
       "      <td>8.6625</td>\n",
       "      <td>NaN</td>\n",
       "      <td>S</td>\n",
       "    </tr>\n",
       "    <tr>\n",
       "      <th>4</th>\n",
       "      <td>896</td>\n",
       "      <td>3</td>\n",
       "      <td>Hirvonen, Mrs. Alexander (Helga E Lindqvist)</td>\n",
       "      <td>female</td>\n",
       "      <td>22.0</td>\n",
       "      <td>1</td>\n",
       "      <td>1</td>\n",
       "      <td>3101298</td>\n",
       "      <td>12.2875</td>\n",
       "      <td>NaN</td>\n",
       "      <td>S</td>\n",
       "    </tr>\n",
       "  </tbody>\n",
       "</table>\n",
       "</div>"
      ],
      "text/plain": [
       "   PassengerId  Pclass                                          Name     Sex  \\\n",
       "0          892       3                              Kelly, Mr. James    male   \n",
       "1          893       3              Wilkes, Mrs. James (Ellen Needs)  female   \n",
       "2          894       2                     Myles, Mr. Thomas Francis    male   \n",
       "3          895       3                              Wirz, Mr. Albert    male   \n",
       "4          896       3  Hirvonen, Mrs. Alexander (Helga E Lindqvist)  female   \n",
       "\n",
       "    Age  SibSp  Parch   Ticket     Fare Cabin Embarked  \n",
       "0  34.5      0      0   330911   7.8292   NaN        Q  \n",
       "1  47.0      1      0   363272   7.0000   NaN        S  \n",
       "2  62.0      0      0   240276   9.6875   NaN        Q  \n",
       "3  27.0      0      0   315154   8.6625   NaN        S  \n",
       "4  22.0      1      1  3101298  12.2875   NaN        S  "
      ]
     },
     "execution_count": 46,
     "metadata": {},
     "output_type": "execute_result"
    }
   ],
   "source": [
    "titanic_test.head()"
   ]
  },
  {
   "cell_type": "code",
   "execution_count": 47,
   "id": "179bd93f",
   "metadata": {},
   "outputs": [],
   "source": [
    "##Preprocessing and Feature Engineering\n",
    "\n",
    "titanic_test[['Cabin1', 'Cabin2', 'Cabin3']] = titanic_test['Cabin'].\\\n",
    "                str.extract(r'(?P<Cabin1>[A-Z]+\\d+)\\s?(?P<Cabin2>[A-Z]+\\d+)?\\s?(?P<Cabin3>[A-Z]+\\d+)?')\n",
    "\n",
    "titanic_test['CabinLetter'] = titanic_test['Cabin1'].str.extract(r'(?P<Cabin1_Code>[A-Z]+)')\n",
    "\n",
    "titanic_test['Cabin1'] = np.where(titanic_test['Cabin1'].isnull(), 0, 1)\n",
    "titanic_test['Cabin2'] = np.where(titanic_test['Cabin2'].isnull(), 0, 1)\n",
    "titanic_test['Cabin3'] = np.where(titanic_test['Cabin3'].isnull(), 0, 1)\n",
    "titanic_test['CabinNum'] = titanic_test['Cabin1'] + titanic_test['Cabin2'] + titanic_test['Cabin3']\n",
    "\n",
    "titanic_test['CabinLetter'] = titanic_test['CabinLetter'].fillna(value = 'N')\n",
    "\n",
    "titanic_test[['TicketLetter', 'TicketNum']] = titanic_test['Ticket'].str.split(\" \", 1, expand=True)\n",
    "\n",
    "titanic_test[['TicketLetter', 'TicketNum']] = titanic_test['Ticket'].\\\n",
    "                str.extract(r'([\\w\\/\\.]+)\\s(\\d+)')\n",
    "\n",
    "titanic_test['TicketSpecial'] = np.where(pd.isna(titanic_test['TicketLetter']), 0 ,1)\n",
    "\n",
    "titanic_test[['NameTitle']] = titanic_test['Name'].\\\n",
    "                str.extract(r'((?<=\\,\\s)[\\w]+)')\n",
    "\n",
    "titanic_test['NameTitle'] = np.where(titanic_test['NameTitle'].\\\n",
    "                                         isin(['Mr', 'Mrs', 'Miss']), 'Standard', 'Elite')\n",
    "\n",
    "for column in ('Sex', 'Embarked','CabinLetter','Pclass', 'NameTitle'):\n",
    "    titanic_test[column] = titanic_test[column].astype('category')\n",
    "    \n",
    "titanic_test.\\\n",
    "drop(columns=['Cabin1', 'Cabin2','Cabin3','Ticket', 'Name','Cabin','TicketLetter', 'TicketNum'], inplace = True)"
   ]
  },
  {
   "cell_type": "code",
   "execution_count": 48,
   "id": "4cee0efa",
   "metadata": {},
   "outputs": [
    {
     "data": {
      "text/html": [
       "<div>\n",
       "<style scoped>\n",
       "    .dataframe tbody tr th:only-of-type {\n",
       "        vertical-align: middle;\n",
       "    }\n",
       "\n",
       "    .dataframe tbody tr th {\n",
       "        vertical-align: top;\n",
       "    }\n",
       "\n",
       "    .dataframe thead th {\n",
       "        text-align: right;\n",
       "    }\n",
       "</style>\n",
       "<table border=\"1\" class=\"dataframe\">\n",
       "  <thead>\n",
       "    <tr style=\"text-align: right;\">\n",
       "      <th></th>\n",
       "      <th>PassengerId</th>\n",
       "      <th>Pclass</th>\n",
       "      <th>Sex</th>\n",
       "      <th>Age</th>\n",
       "      <th>SibSp</th>\n",
       "      <th>Parch</th>\n",
       "      <th>Fare</th>\n",
       "      <th>Embarked</th>\n",
       "      <th>CabinLetter</th>\n",
       "      <th>CabinNum</th>\n",
       "      <th>TicketSpecial</th>\n",
       "      <th>NameTitle</th>\n",
       "    </tr>\n",
       "  </thead>\n",
       "  <tbody>\n",
       "    <tr>\n",
       "      <th>0</th>\n",
       "      <td>892</td>\n",
       "      <td>3</td>\n",
       "      <td>male</td>\n",
       "      <td>34.5</td>\n",
       "      <td>0</td>\n",
       "      <td>0</td>\n",
       "      <td>7.8292</td>\n",
       "      <td>Q</td>\n",
       "      <td>N</td>\n",
       "      <td>0</td>\n",
       "      <td>0</td>\n",
       "      <td>Standard</td>\n",
       "    </tr>\n",
       "    <tr>\n",
       "      <th>1</th>\n",
       "      <td>893</td>\n",
       "      <td>3</td>\n",
       "      <td>female</td>\n",
       "      <td>47.0</td>\n",
       "      <td>1</td>\n",
       "      <td>0</td>\n",
       "      <td>7.0000</td>\n",
       "      <td>S</td>\n",
       "      <td>N</td>\n",
       "      <td>0</td>\n",
       "      <td>0</td>\n",
       "      <td>Standard</td>\n",
       "    </tr>\n",
       "    <tr>\n",
       "      <th>2</th>\n",
       "      <td>894</td>\n",
       "      <td>2</td>\n",
       "      <td>male</td>\n",
       "      <td>62.0</td>\n",
       "      <td>0</td>\n",
       "      <td>0</td>\n",
       "      <td>9.6875</td>\n",
       "      <td>Q</td>\n",
       "      <td>N</td>\n",
       "      <td>0</td>\n",
       "      <td>0</td>\n",
       "      <td>Standard</td>\n",
       "    </tr>\n",
       "    <tr>\n",
       "      <th>3</th>\n",
       "      <td>895</td>\n",
       "      <td>3</td>\n",
       "      <td>male</td>\n",
       "      <td>27.0</td>\n",
       "      <td>0</td>\n",
       "      <td>0</td>\n",
       "      <td>8.6625</td>\n",
       "      <td>S</td>\n",
       "      <td>N</td>\n",
       "      <td>0</td>\n",
       "      <td>0</td>\n",
       "      <td>Standard</td>\n",
       "    </tr>\n",
       "    <tr>\n",
       "      <th>4</th>\n",
       "      <td>896</td>\n",
       "      <td>3</td>\n",
       "      <td>female</td>\n",
       "      <td>22.0</td>\n",
       "      <td>1</td>\n",
       "      <td>1</td>\n",
       "      <td>12.2875</td>\n",
       "      <td>S</td>\n",
       "      <td>N</td>\n",
       "      <td>0</td>\n",
       "      <td>0</td>\n",
       "      <td>Standard</td>\n",
       "    </tr>\n",
       "  </tbody>\n",
       "</table>\n",
       "</div>"
      ],
      "text/plain": [
       "   PassengerId Pclass     Sex   Age  SibSp  Parch     Fare Embarked  \\\n",
       "0          892      3    male  34.5      0      0   7.8292        Q   \n",
       "1          893      3  female  47.0      1      0   7.0000        S   \n",
       "2          894      2    male  62.0      0      0   9.6875        Q   \n",
       "3          895      3    male  27.0      0      0   8.6625        S   \n",
       "4          896      3  female  22.0      1      1  12.2875        S   \n",
       "\n",
       "  CabinLetter  CabinNum  TicketSpecial NameTitle  \n",
       "0           N         0              0  Standard  \n",
       "1           N         0              0  Standard  \n",
       "2           N         0              0  Standard  \n",
       "3           N         0              0  Standard  \n",
       "4           N         0              0  Standard  "
      ]
     },
     "execution_count": 48,
     "metadata": {},
     "output_type": "execute_result"
    }
   ],
   "source": [
    "titanic_test.head()"
   ]
  },
  {
   "cell_type": "markdown",
   "id": "460501f2",
   "metadata": {},
   "source": [
    "### Final Submission"
   ]
  },
  {
   "cell_type": "code",
   "execution_count": 54,
   "id": "f571083d",
   "metadata": {},
   "outputs": [],
   "source": [
    "#convert output to dataframe \n",
    "final_data = {'PassengerId': titanic_test.PassengerId, 'Survived': xgb_model_best.predict(titanic_test.drop('PassengerId', axis = 1))}\n",
    "submission = pd.DataFrame(data=final_data)"
   ]
  },
  {
   "cell_type": "code",
   "execution_count": 55,
   "id": "682a1487",
   "metadata": {},
   "outputs": [
    {
     "data": {
      "text/plain": [
       "0    0.616162\n",
       "1    0.383838\n",
       "Name: Survived, dtype: float64"
      ]
     },
     "execution_count": 55,
     "metadata": {},
     "output_type": "execute_result"
    }
   ],
   "source": [
    "titanic_training.Survived.value_counts()/len(titanic_training.Survived)"
   ]
  },
  {
   "cell_type": "code",
   "execution_count": 56,
   "id": "94acba1f",
   "metadata": {},
   "outputs": [
    {
     "data": {
      "text/plain": [
       "0    0.641148\n",
       "1    0.358852\n",
       "Name: Survived, dtype: float64"
      ]
     },
     "execution_count": 56,
     "metadata": {},
     "output_type": "execute_result"
    }
   ],
   "source": [
    "submission.Survived.value_counts()/len(submission.Survived)"
   ]
  },
  {
   "cell_type": "code",
   "execution_count": 57,
   "id": "f12c4f4f",
   "metadata": {},
   "outputs": [
    {
     "data": {
      "text/html": [
       "<div>\n",
       "<style scoped>\n",
       "    .dataframe tbody tr th:only-of-type {\n",
       "        vertical-align: middle;\n",
       "    }\n",
       "\n",
       "    .dataframe tbody tr th {\n",
       "        vertical-align: top;\n",
       "    }\n",
       "\n",
       "    .dataframe thead th {\n",
       "        text-align: right;\n",
       "    }\n",
       "</style>\n",
       "<table border=\"1\" class=\"dataframe\">\n",
       "  <thead>\n",
       "    <tr style=\"text-align: right;\">\n",
       "      <th></th>\n",
       "      <th>PassengerId</th>\n",
       "      <th>Survived</th>\n",
       "    </tr>\n",
       "  </thead>\n",
       "  <tbody>\n",
       "    <tr>\n",
       "      <th>0</th>\n",
       "      <td>892</td>\n",
       "      <td>0</td>\n",
       "    </tr>\n",
       "    <tr>\n",
       "      <th>1</th>\n",
       "      <td>893</td>\n",
       "      <td>0</td>\n",
       "    </tr>\n",
       "    <tr>\n",
       "      <th>2</th>\n",
       "      <td>894</td>\n",
       "      <td>0</td>\n",
       "    </tr>\n",
       "    <tr>\n",
       "      <th>3</th>\n",
       "      <td>895</td>\n",
       "      <td>0</td>\n",
       "    </tr>\n",
       "    <tr>\n",
       "      <th>4</th>\n",
       "      <td>896</td>\n",
       "      <td>0</td>\n",
       "    </tr>\n",
       "  </tbody>\n",
       "</table>\n",
       "</div>"
      ],
      "text/plain": [
       "   PassengerId  Survived\n",
       "0          892         0\n",
       "1          893         0\n",
       "2          894         0\n",
       "3          895         0\n",
       "4          896         0"
      ]
     },
     "execution_count": 57,
     "metadata": {},
     "output_type": "execute_result"
    }
   ],
   "source": [
    "submission.shape\n",
    "submission.head()"
   ]
  },
  {
   "cell_type": "code",
   "execution_count": 58,
   "id": "02c41b15",
   "metadata": {},
   "outputs": [],
   "source": [
    "submission.to_csv('submission_4.csv', index =False)"
   ]
  }
 ],
 "metadata": {
  "kernelspec": {
   "display_name": "Python 3",
   "language": "python",
   "name": "python3"
  },
  "language_info": {
   "codemirror_mode": {
    "name": "ipython",
    "version": 3
   },
   "file_extension": ".py",
   "mimetype": "text/x-python",
   "name": "python",
   "nbconvert_exporter": "python",
   "pygments_lexer": "ipython3",
   "version": "3.8.8"
  }
 },
 "nbformat": 4,
 "nbformat_minor": 5
}
