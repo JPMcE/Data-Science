{
 "cells": [
  {
   "cell_type": "markdown",
   "id": "823a0ada",
   "metadata": {},
   "source": [
    "### Import Packages and Load Data"
   ]
  },
  {
   "cell_type": "code",
   "execution_count": null,
   "id": "fc7b3cfe",
   "metadata": {},
   "outputs": [],
   "source": [
    "import numpy as np\n",
    "import seaborn as sns\n",
    "import pandas as pd\n",
    "import matplotlib.pyplot as plt\n",
    "%matplotlib inline\n",
    "\n",
    "pd.set_option('display.max_rows', 500)\n",
    "pd.set_option('display.max_columns', 500)"
   ]
  },
  {
   "cell_type": "code",
   "execution_count": null,
   "id": "5377cf7a",
   "metadata": {},
   "outputs": [],
   "source": [
    "from sklearn.model_selection import train_test_split, RandomizedSearchCV, GridSearchCV\n",
    "from sklearn.metrics import accuracy_score\n",
    "from sklearn.linear_model import LogisticRegression\n",
    "from sklearn.neighbors import KNeighborsClassifier\n",
    "from sklearn.ensemble import RandomForestClassifier\n",
    "from sklearn import preprocessing\n",
    "from sklearn import set_config\n",
    "from sklearn.preprocessing import OrdinalEncoder,OneHotEncoder, FunctionTransformer, StandardScaler\n",
    "from sklearn.pipeline import Pipeline\n",
    "from sklearn.compose import ColumnTransformer\n",
    "from sklearn.impute import SimpleImputer\n",
    "from sklearn.model_selection import cross_val_score,cross_validate\n",
    "import xgboost as xgb"
   ]
  },
  {
   "cell_type": "code",
   "execution_count": null,
   "id": "8fe24d4c",
   "metadata": {},
   "outputs": [],
   "source": [
    "titanic_training = pd.read_csv('/Users/jpmcelyea/GIT_Code/Data-Science/Kaggle-Titanic/titanic/train.csv')"
   ]
  },
  {
   "cell_type": "code",
   "execution_count": null,
   "id": "3c2458f0",
   "metadata": {},
   "outputs": [],
   "source": [
    "titanic_test = pd.read_csv('/Users/jpmcelyea/GIT_Code/Data-Science/Kaggle-Titanic/titanic/test.csv')"
   ]
  },
  {
   "cell_type": "markdown",
   "id": "b695afb7",
   "metadata": {},
   "source": [
    "### Data Preprocessing + Feature Engineering"
   ]
  },
  {
   "cell_type": "code",
   "execution_count": null,
   "id": "cd876b10",
   "metadata": {},
   "outputs": [],
   "source": [
    "titanic_training.head()"
   ]
  },
  {
   "cell_type": "code",
   "execution_count": null,
   "id": "d4ebcd44",
   "metadata": {},
   "outputs": [],
   "source": [
    "titanic_training.set_index(\"PassengerId\", inplace=True)"
   ]
  },
  {
   "cell_type": "code",
   "execution_count": null,
   "id": "025ee17a",
   "metadata": {},
   "outputs": [],
   "source": [
    "titanic_training[['Cabin1', 'Cabin2', 'Cabin3']] = titanic_training['Cabin'].\\\n",
    "                str.extract(r'(?P<Cabin1>[A-Z]+\\d+)\\s?(?P<Cabin2>[A-Z]+\\d+)?\\s?(?P<Cabin3>[A-Z]+\\d+)?')"
   ]
  },
  {
   "cell_type": "code",
   "execution_count": null,
   "id": "0b92d184",
   "metadata": {},
   "outputs": [],
   "source": [
    "titanic_training['CabinLetter'] = titanic_training['Cabin1'].str.extract(r'(?P<Cabin1_Code>[A-Z]+)')"
   ]
  },
  {
   "cell_type": "code",
   "execution_count": null,
   "id": "3335eccd",
   "metadata": {},
   "outputs": [],
   "source": [
    "titanic_training['Cabin1'] = np.where(titanic_training['Cabin1'].isnull(), 0, 1)\n",
    "titanic_training['Cabin2'] = np.where(titanic_training['Cabin2'].isnull(), 0, 1)\n",
    "titanic_training['Cabin3'] = np.where(titanic_training['Cabin3'].isnull(), 0, 1)\n",
    "titanic_training['CabinNum'] = titanic_training['Cabin1'] + titanic_training['Cabin2'] + titanic_training['Cabin3']"
   ]
  },
  {
   "cell_type": "code",
   "execution_count": null,
   "id": "36481d59",
   "metadata": {},
   "outputs": [],
   "source": [
    "titanic_training.drop(columns=['Cabin1', 'Cabin2','Cabin3'], inplace = True)"
   ]
  },
  {
   "cell_type": "code",
   "execution_count": null,
   "id": "dadf34a3",
   "metadata": {},
   "outputs": [],
   "source": [
    "titanic_training['CabinLetter'] = titanic_training['CabinLetter'].fillna(value = 'N')"
   ]
  },
  {
   "cell_type": "code",
   "execution_count": null,
   "id": "ed6ba680",
   "metadata": {},
   "outputs": [],
   "source": [
    "titanic_training[['TicketLetter', 'TicketNum']] = titanic_training['Ticket'].str.split(\" \", 1, expand=True)"
   ]
  },
  {
   "cell_type": "code",
   "execution_count": null,
   "id": "12f66799",
   "metadata": {},
   "outputs": [],
   "source": [
    "titanic_training[['TicketLetter', 'TicketNum']] = titanic_training['Ticket'].\\\n",
    "                str.extract(r'([\\w\\/\\.]+)\\s(\\d+)')"
   ]
  },
  {
   "cell_type": "code",
   "execution_count": null,
   "id": "5d9e035f",
   "metadata": {},
   "outputs": [],
   "source": [
    "titanic_training['TicketSpecial'] = np.where(pd.isna(titanic_training['TicketLetter']), 0 ,1)"
   ]
  },
  {
   "cell_type": "code",
   "execution_count": null,
   "id": "34d68ec4",
   "metadata": {},
   "outputs": [],
   "source": [
    "titanic_training[['NameTitle']] = titanic_training['Name'].\\\n",
    "                str.extract(r'((?<=\\,\\s)[\\w]+)')"
   ]
  },
  {
   "cell_type": "code",
   "execution_count": null,
   "id": "f5ceebda",
   "metadata": {},
   "outputs": [],
   "source": [
    "titanic_training.drop(columns=['Ticket', 'Name','Cabin','TicketLetter', 'TicketNum'], inplace = True)"
   ]
  },
  {
   "cell_type": "code",
   "execution_count": null,
   "id": "8e2b1fef",
   "metadata": {},
   "outputs": [],
   "source": [
    "nullseries = titanic_training.isnull().sum()\n",
    "nullseries[nullseries > 0]"
   ]
  },
  {
   "cell_type": "code",
   "execution_count": null,
   "id": "0fc5668c",
   "metadata": {},
   "outputs": [],
   "source": [
    "nullseries = titanic_training.isnull().sum()/len(titanic_training)\n",
    "nullseries[nullseries > 0]"
   ]
  },
  {
   "cell_type": "code",
   "execution_count": null,
   "id": "aef466c9",
   "metadata": {},
   "outputs": [],
   "source": [
    "titanic_training.describe()"
   ]
  },
  {
   "cell_type": "code",
   "execution_count": null,
   "id": "543bd0f3",
   "metadata": {},
   "outputs": [],
   "source": [
    "titanic_training['NameTitle'] = np.where(titanic_training['NameTitle'].\\\n",
    "                                         isin(['Mr', 'Mrs', 'Miss']), 'Standard', 'Elite')"
   ]
  },
  {
   "cell_type": "code",
   "execution_count": null,
   "id": "00d08da7",
   "metadata": {},
   "outputs": [],
   "source": [
    "for column in ('Sex', 'Embarked','CabinLetter','Pclass', 'NameTitle'):\n",
    "    titanic_training[column] = titanic_training[column].astype('category')"
   ]
  },
  {
   "cell_type": "code",
   "execution_count": null,
   "id": "0135a608",
   "metadata": {},
   "outputs": [],
   "source": [
    "titanic_training.dtypes"
   ]
  },
  {
   "cell_type": "code",
   "execution_count": null,
   "id": "de66dc7f",
   "metadata": {},
   "outputs": [],
   "source": [
    "titanic_training.head()"
   ]
  },
  {
   "cell_type": "code",
   "execution_count": null,
   "id": "42a3bfea",
   "metadata": {},
   "outputs": [],
   "source": [
    "from sklearn.preprocessing import OrdinalEncoder\n",
    "knn_pipeline = Pipeline(steps =[\n",
    "    ['preprocessing', \n",
    "     ColumnTransformer(remainder='passthrough',\n",
    "     transformers=[\n",
    "             ('imputer', SimpleImputer(strategy='mean'), ['Age']),\n",
    "             ('dummies', OneHotEncoder(), X.select_dtypes(include=['category']).columns),\n",
    "             ('name', OrdinalEncoder(categories=[['Standard', 'Elite']]), ['NameTitle'])\n",
    "              ])]\n",
    "    ,('scaler', StandardScaler())\n",
    "    ,('model', KNeighborsClassifier())\n",
    "    ])"
   ]
  },
  {
   "cell_type": "markdown",
   "id": "90148baf",
   "metadata": {},
   "source": [
    "### Model Selection"
   ]
  },
  {
   "cell_type": "code",
   "execution_count": null,
   "id": "a003378b",
   "metadata": {},
   "outputs": [],
   "source": [
    "X = titanic_training.drop('Survived', axis=1)\n",
    "y = titanic_training['Survived']"
   ]
  },
  {
   "cell_type": "code",
   "execution_count": null,
   "id": "6db3d755",
   "metadata": {},
   "outputs": [],
   "source": [
    "train_X, test_X, train_y, test_y = train_test_split(X, y, test_size=0.3, random_state = 202)"
   ]
  },
  {
   "cell_type": "code",
   "execution_count": null,
   "id": "7e946137",
   "metadata": {},
   "outputs": [],
   "source": [
    "knn_pipeline = Pipeline(steps =[\n",
    "    ['preprocessing', \n",
    "     ColumnTransformer(remainder='passthrough',\n",
    "     transformers=[(\n",
    "             'dummies', OneHotEncoder(), X.select_dtypes(include=['category']).columns)\n",
    "              ])]\n",
    "    ,('imputer', SimpleImputer(strategy='mean'))\n",
    "    ,('scaler', StandardScaler())\n",
    "    ,('model', KNeighborsClassifier())\n",
    "    ])"
   ]
  },
  {
   "cell_type": "code",
   "execution_count": null,
   "id": "8971e6f0",
   "metadata": {},
   "outputs": [],
   "source": [
    "scores = cross_val_score(knn_pipeline, train_X, train_y, \n",
    "                        scoring=('accuracy'), cv=5)\n",
    "\n",
    "scores.mean()"
   ]
  },
  {
   "cell_type": "code",
   "execution_count": null,
   "id": "d89ec504",
   "metadata": {},
   "outputs": [],
   "source": [
    "knn_pipeline.fit(train_X, train_y)\n",
    "knn_pipeline.score(test_X, test_y)"
   ]
  },
  {
   "cell_type": "code",
   "execution_count": null,
   "id": "0b3be641",
   "metadata": {},
   "outputs": [],
   "source": []
  },
  {
   "cell_type": "code",
   "execution_count": null,
   "id": "a16ccf9f",
   "metadata": {},
   "outputs": [],
   "source": []
  },
  {
   "cell_type": "code",
   "execution_count": null,
   "id": "1491d889",
   "metadata": {},
   "outputs": [],
   "source": [
    "rf_pipeline = Pipeline(steps =[\n",
    "    ['preprocessing', \n",
    "     ColumnTransformer(remainder='passthrough',\n",
    "     transformers=[(\n",
    "             'dummies', OneHotEncoder(), X.select_dtypes(include=['category']).columns)\n",
    "              ])]\n",
    "    ,('imputer', SimpleImputer(strategy='mean'))\n",
    "    ,('model', RandomForestClassifier(random_state =123))\n",
    "    ])"
   ]
  },
  {
   "cell_type": "code",
   "execution_count": null,
   "id": "a5b63b60",
   "metadata": {},
   "outputs": [],
   "source": [
    "scores = cross_val_score(rf_pipeline, train_X, train_y, \n",
    "                        scoring=('accuracy'), cv=10)\n",
    "scores.mean()"
   ]
  },
  {
   "cell_type": "code",
   "execution_count": null,
   "id": "419b5d15",
   "metadata": {},
   "outputs": [],
   "source": [
    "rf_pipeline.fit(train_X, train_y)\n",
    "rf_pipeline.score(test_X, test_y)"
   ]
  },
  {
   "cell_type": "code",
   "execution_count": null,
   "id": "e13c7d36",
   "metadata": {},
   "outputs": [],
   "source": []
  },
  {
   "cell_type": "code",
   "execution_count": null,
   "id": "5b65733a",
   "metadata": {},
   "outputs": [],
   "source": []
  },
  {
   "cell_type": "code",
   "execution_count": null,
   "id": "6fab59e5",
   "metadata": {},
   "outputs": [],
   "source": [
    "logit_pipeline = Pipeline(steps =[\n",
    "    ['preprocessing', \n",
    "     ColumnTransformer(remainder='passthrough',\n",
    "     transformers=[(\n",
    "             'dummies', OneHotEncoder(drop='first'), X.select_dtypes(include=['category']).columns)\n",
    "              ])]\n",
    "    ,('imputer', SimpleImputer(strategy='mean'))\n",
    "    ,('model', LogisticRegression(max_iter=1000,random_state=123))\n",
    "    ])"
   ]
  },
  {
   "cell_type": "code",
   "execution_count": null,
   "id": "a3fff800",
   "metadata": {},
   "outputs": [],
   "source": [
    "scores = cross_val_score(logit_pipeline, train_X, train_y, \n",
    "                        scoring=('accuracy'), cv=10)\n",
    "scores.mean()"
   ]
  },
  {
   "cell_type": "code",
   "execution_count": null,
   "id": "8f7c2ae7",
   "metadata": {},
   "outputs": [],
   "source": [
    "logit_pipeline.fit(train_X, train_y)\n",
    "logit_pipeline.score(test_X, test_y)"
   ]
  },
  {
   "cell_type": "code",
   "execution_count": null,
   "id": "09d9b8af",
   "metadata": {},
   "outputs": [],
   "source": []
  },
  {
   "cell_type": "code",
   "execution_count": null,
   "id": "5fa1ee8f",
   "metadata": {},
   "outputs": [],
   "source": []
  },
  {
   "cell_type": "code",
   "execution_count": null,
   "id": "7566aad0",
   "metadata": {},
   "outputs": [],
   "source": [
    "xgb_pipeline = Pipeline(steps =[\n",
    "    ['preprocessing', \n",
    "     ColumnTransformer(remainder='passthrough',\n",
    "     transformers=[(\n",
    "             'dummies', OneHotEncoder(drop='first'), X.select_dtypes(include=['category']).columns)\n",
    "              ])]\n",
    "    ,('model', xgb.XGBClassifier(use_label_encoder=False, verbosity=0, random_state=123))\n",
    "    ])"
   ]
  },
  {
   "cell_type": "code",
   "execution_count": null,
   "id": "52f795fe",
   "metadata": {},
   "outputs": [],
   "source": [
    "scores = cross_val_score(xgb_pipeline, train_X, train_y, \n",
    "                        scoring=('accuracy'), cv=10)\n",
    "scores.mean()"
   ]
  },
  {
   "cell_type": "code",
   "execution_count": null,
   "id": "d99442bc",
   "metadata": {},
   "outputs": [],
   "source": [
    "xgb_pipeline.fit(train_X, train_y)\n",
    "xgb_pipeline.score(test_X, test_y)"
   ]
  },
  {
   "cell_type": "markdown",
   "id": "2ef3935a",
   "metadata": {},
   "source": [
    "### Tune the Model"
   ]
  },
  {
   "cell_type": "code",
   "execution_count": null,
   "id": "e0d082f3",
   "metadata": {},
   "outputs": [],
   "source": [
    "param_grid = {'model__n_neighbors': list(range(1, 10))}"
   ]
  },
  {
   "cell_type": "code",
   "execution_count": null,
   "id": "ab25b70a",
   "metadata": {},
   "outputs": [],
   "source": [
    "grid_knn = GridSearchCV(\n",
    "    estimator=knn_pipeline,\n",
    "    param_grid=param_grid,\n",
    "    n_jobs = -1,\n",
    "    scoring = 'accuracy',\n",
    "    cv=10)"
   ]
  },
  {
   "cell_type": "code",
   "execution_count": null,
   "id": "580e0454",
   "metadata": {},
   "outputs": [],
   "source": [
    "grid_knn.fit(train_X, train_y);\n",
    "knn_model_best = grid_knn.best_estimator_;"
   ]
  },
  {
   "cell_type": "code",
   "execution_count": null,
   "id": "3792b775",
   "metadata": {},
   "outputs": [],
   "source": [
    "print(grid_knn.best_score_)\n",
    "print(grid_knn.best_params_)\n",
    "print(knn_model_best.score(test_X, test_y))"
   ]
  },
  {
   "cell_type": "code",
   "execution_count": null,
   "id": "d780fb4b",
   "metadata": {},
   "outputs": [],
   "source": []
  },
  {
   "cell_type": "code",
   "execution_count": null,
   "id": "9b68e5c8",
   "metadata": {},
   "outputs": [],
   "source": []
  },
  {
   "cell_type": "code",
   "execution_count": null,
   "id": "58446eaf",
   "metadata": {},
   "outputs": [],
   "source": [
    "param_grid = {\n",
    "'model__n_estimators': [100,350,500],\n",
    "'model__max_features': ['log2','auto','sqrt'],\n",
    "'model__min_samples_leaf': list(range(2, 30)),\n",
    "'model__max_depth': list(range(1, 10))\n",
    "    \n",
    "}"
   ]
  },
  {
   "cell_type": "code",
   "execution_count": null,
   "id": "5236543a",
   "metadata": {},
   "outputs": [],
   "source": [
    "random_rf = RandomizedSearchCV(\n",
    "        estimator=rf_pipeline,\n",
    "        param_distributions = param_grid, \n",
    "        n_iter = 150,\n",
    "        n_jobs= -1, \n",
    "        scoring='accuracy', \n",
    "        cv = 10)\n",
    "\n",
    "random_rf.fit(train_X, train_y);"
   ]
  },
  {
   "cell_type": "code",
   "execution_count": null,
   "id": "3ef13c95",
   "metadata": {},
   "outputs": [],
   "source": [
    "print(random_rf.best_score_)\n",
    "print(random_rf.best_params_)\n",
    "print(random_rf.score(test_X, test_y))"
   ]
  },
  {
   "cell_type": "code",
   "execution_count": null,
   "id": "3ef4c583",
   "metadata": {},
   "outputs": [],
   "source": []
  },
  {
   "cell_type": "code",
   "execution_count": null,
   "id": "a9127c0b",
   "metadata": {},
   "outputs": [],
   "source": []
  },
  {
   "cell_type": "code",
   "execution_count": null,
   "id": "ac166ff2",
   "metadata": {},
   "outputs": [],
   "source": [
    "param_grid = {\n",
    "'model__n_estimators': [25,50,100],\n",
    "'model__max_features': ['sqrt'],\n",
    "'model__min_samples_leaf': [2,3,4,5,6,7,8],\n",
    "'model__max_depth': [4,5,6]\n",
    "}"
   ]
  },
  {
   "cell_type": "code",
   "execution_count": null,
   "id": "71184c2c",
   "metadata": {},
   "outputs": [],
   "source": [
    "grid_rf = GridSearchCV(\n",
    "    estimator=rf_pipeline,\n",
    "    param_grid=param_grid,\n",
    "    n_jobs = -1,\n",
    "    scoring = 'accuracy',\n",
    "    cv=10)\n",
    "\n",
    "grid_rf.fit(train_X, train_y);"
   ]
  },
  {
   "cell_type": "code",
   "execution_count": null,
   "id": "9ca9e821",
   "metadata": {},
   "outputs": [],
   "source": [
    "print(grid_rf.best_score_)\n",
    "print(grid_rf.best_params_)\n",
    "print(grid_rf.score(test_X, test_y))"
   ]
  },
  {
   "cell_type": "code",
   "execution_count": null,
   "id": "f4ed240c",
   "metadata": {},
   "outputs": [],
   "source": []
  },
  {
   "cell_type": "code",
   "execution_count": null,
   "id": "7d46fed3",
   "metadata": {},
   "outputs": [],
   "source": []
  },
  {
   "cell_type": "code",
   "execution_count": null,
   "id": "79905279",
   "metadata": {},
   "outputs": [],
   "source": [
    "param_grid = {'model__penalty' : ['l1', 'l2'],\n",
    "    'model__C' : np.logspace(-4, 4, 20),\n",
    "    'model__solver' : ['liblinear']}"
   ]
  },
  {
   "cell_type": "code",
   "execution_count": null,
   "id": "c000c4be",
   "metadata": {},
   "outputs": [],
   "source": [
    "grid_logit = GridSearchCV(\n",
    "    estimator=logit_pipeline,\n",
    "    param_grid=param_grid,\n",
    "    n_jobs = -1,\n",
    "    scoring = 'accuracy',\n",
    "    cv=10)"
   ]
  },
  {
   "cell_type": "code",
   "execution_count": null,
   "id": "3fbcd0fa",
   "metadata": {},
   "outputs": [],
   "source": [
    "grid_logit.fit(train_X, train_y);\n",
    "logit_model_best = grid_logit.best_estimator_;"
   ]
  },
  {
   "cell_type": "code",
   "execution_count": null,
   "id": "a5bb57f6",
   "metadata": {},
   "outputs": [],
   "source": [
    "print(grid_logit.best_score_)\n",
    "print(grid_logit.best_params_)\n",
    "print(logit_model_best.score(test_X, test_y))"
   ]
  },
  {
   "cell_type": "code",
   "execution_count": null,
   "id": "607682b3",
   "metadata": {},
   "outputs": [],
   "source": []
  },
  {
   "cell_type": "code",
   "execution_count": null,
   "id": "f9398f70",
   "metadata": {},
   "outputs": [],
   "source": []
  },
  {
   "cell_type": "code",
   "execution_count": null,
   "id": "c2301ace",
   "metadata": {},
   "outputs": [],
   "source": [
    "param_grid = {'model__learning_rate': np.arange(0.05, 1, 0.05),\n",
    "    'model__max_depth': np.arange(3, 10, 1),\n",
    "    'model__n_estimators': np.arange(50, 200, 50)}"
   ]
  },
  {
   "cell_type": "code",
   "execution_count": null,
   "id": "283978cd",
   "metadata": {},
   "outputs": [],
   "source": [
    "random_xgb = RandomizedSearchCV(\n",
    "        estimator=xgb_pipeline,\n",
    "        param_distributions = param_grid, \n",
    "        n_iter = 25,\n",
    "        n_jobs= -1, \n",
    "        scoring='accuracy', \n",
    "        cv = 10)\n",
    "\n",
    "random_xgb.fit(train_X, train_y);"
   ]
  },
  {
   "cell_type": "code",
   "execution_count": null,
   "id": "964c90b2",
   "metadata": {},
   "outputs": [],
   "source": [
    "print(random_xgb.best_score_)\n",
    "print(random_xgb.best_params_)\n",
    "print(random_xgb.score(test_X, test_y))"
   ]
  },
  {
   "cell_type": "code",
   "execution_count": null,
   "id": "a3dbaa4c",
   "metadata": {},
   "outputs": [],
   "source": []
  },
  {
   "cell_type": "code",
   "execution_count": null,
   "id": "b5273ce1",
   "metadata": {},
   "outputs": [],
   "source": []
  },
  {
   "cell_type": "code",
   "execution_count": null,
   "id": "3e6c76cf",
   "metadata": {},
   "outputs": [],
   "source": [
    "param_grid = {'model__learning_rate': [0,15,0.2, 0.25],\n",
    "    'model__max_depth': [2,3,4,5],\n",
    "    'model__n_estimators': [20,30,50]}"
   ]
  },
  {
   "cell_type": "code",
   "execution_count": null,
   "id": "e1639239",
   "metadata": {},
   "outputs": [],
   "source": [
    "grid_xgb = GridSearchCV(\n",
    "    estimator=xgb_pipeline,\n",
    "    param_grid=param_grid,\n",
    "    n_jobs = -1,\n",
    "    scoring = 'accuracy',\n",
    "    cv=10)"
   ]
  },
  {
   "cell_type": "code",
   "execution_count": null,
   "id": "0cebcb02",
   "metadata": {},
   "outputs": [],
   "source": [
    "grid_xgb.fit(train_X, train_y);\n",
    "xgb_model_best = grid_xgb.best_estimator_;"
   ]
  },
  {
   "cell_type": "code",
   "execution_count": null,
   "id": "1b0d5f3f",
   "metadata": {},
   "outputs": [],
   "source": [
    "print(grid_xgb.best_score_)\n",
    "print(grid_xgb.best_params_)\n",
    "print(grid_xgb.score(test_X, test_y))"
   ]
  },
  {
   "cell_type": "markdown",
   "id": "22050e10",
   "metadata": {},
   "source": [
    "### Fit Model To Test Data"
   ]
  },
  {
   "cell_type": "code",
   "execution_count": null,
   "id": "5653d1a2",
   "metadata": {},
   "outputs": [],
   "source": []
  },
  {
   "cell_type": "code",
   "execution_count": null,
   "id": "26771eb1",
   "metadata": {},
   "outputs": [],
   "source": []
  },
  {
   "cell_type": "code",
   "execution_count": null,
   "id": "e560728c",
   "metadata": {},
   "outputs": [],
   "source": []
  },
  {
   "cell_type": "code",
   "execution_count": null,
   "id": "bfc2d6de",
   "metadata": {},
   "outputs": [],
   "source": [
    "# Create your housing DMatrix: housing_dmatrix\n",
    "housing_dmatrix = xgb.DMatrix(data=X, label=y)\n",
    "\n",
    "# Create the parameter dictionary for each tree: params\n",
    "params = {\"objective\":\"reg:linear\", \"max_depth\":4}\n",
    "\n",
    "# Perform cross-validation with early stopping: cv_results\n",
    "cv_results = xgb.cv(dtrain=housing_dmatrix, params=params, nfold=3, num_boost_round=50, early_stopping_rounds=10,metrics=\"rmse\", as_pandas=True, seed=123)"
   ]
  },
  {
   "cell_type": "code",
   "execution_count": null,
   "id": "78269cb2",
   "metadata": {},
   "outputs": [],
   "source": [
    "# Create the parameter grid: gbm_param_grid\n",
    "gbm_param_grid = {\n",
    "    'colsample_bytree': [0.3, 0.7],\n",
    "    'n_estimators': [50],\n",
    "    'max_depth': [2, 5]\n",
    "}\n",
    "\n",
    "# Instantiate the regressor: gbm\n",
    "gbm = xgb.XGBRegressor()\n",
    "\n",
    "# Perform grid search: grid_mse\n",
    "grid_mse = GridSearchCV(estimator=gbm,param_grid=gbm_param_grid,            \n",
    "                        scoring='neg_mean_squared_error', cv=4, verbose=1)\n",
    "\n",
    "\n",
    "# Fit grid_mse to the data\n",
    "grid_mse.fit(X, y)\n",
    "\n",
    "# Print the best parameters and lowest RMSE\n",
    "print(\"Best parameters found: \", grid_mse.best_params_)\n",
    "print(\"Lowest RMSE found: \", np.sqrt(np.abs(grid_mse.best_score_)))"
   ]
  },
  {
   "cell_type": "code",
   "execution_count": null,
   "id": "38822f57",
   "metadata": {},
   "outputs": [],
   "source": [
    "# Create the parameter grid: gbm_param_grid \n",
    "gbm_param_grid = {\n",
    "    'n_estimators': [25],\n",
    "    'max_depth': range(2, 12)\n",
    "}\n",
    "\n",
    "# Instantiate the regressor: gbm\n",
    "gbm = xgb.XGBRegressor(n_estimators=10)\n",
    "\n",
    "# Perform random search: grid_mse\n",
    "randomized_mse =  RandomizedSearchCV(param_distributions=gbm_param_grid, estimator=gbm,scoring='neg_mean_squared_error', n_iter=5, cv=4, verbose=1)\n",
    "\n",
    "\n",
    "# Fit randomized_mse to the data\n",
    "randomized_mse.fit(X,y)\n",
    "\n",
    "# Print the best parameters and lowest RMSE\n",
    "print(\"Best parameters found: \", randomized_mse.best_params_)\n",
    "print(\"Lowest RMSE found: \", np.sqrt(np.abs(randomized_mse.best_score_)))"
   ]
  },
  {
   "cell_type": "code",
   "execution_count": null,
   "id": "68a4a4c5",
   "metadata": {},
   "outputs": [],
   "source": [
    "#check label econoder/dict vectorizer"
   ]
  },
  {
   "cell_type": "code",
   "execution_count": null,
   "id": "f8851116",
   "metadata": {},
   "outputs": [],
   "source": [
    "# Import necessary modules\n",
    "from sklearn.feature_extraction import DictVectorizer\n",
    "from sklearn.pipeline import Pipeline\n",
    "from sklearn.model_selection import cross_val_score\n",
    "\n",
    "# Fill LotFrontage missing values with 0\n",
    "X.LotFrontage = X.LotFrontage.fillna(0)\n",
    "\n",
    "# Setup the pipeline steps: steps\n",
    "steps = [(\"ohe_onestep\", DictVectorizer(sparse=False)),\n",
    "         (\"xgb_model\", xgb.XGBRegressor(max_depth=2, objective=\"reg:linear\"))]\n",
    "\n",
    "# Create the pipeline: xgb_pipeline\n",
    "xgb_pipeline = Pipeline(steps)\n",
    "\n",
    "# Cross-validate the model\n",
    "cross_val_scores = cross_val_score(xgb_pipeline, X.to_dict(\"records\"), y,\n",
    "scoring = \"neg_mean_squared_error\", cv = 10)\n"
   ]
  },
  {
   "cell_type": "code",
   "execution_count": null,
   "id": "6aebe433",
   "metadata": {},
   "outputs": [],
   "source": [
    "# Import necessary modules\n",
    "from sklearn.feature_extraction import DictVectorizer\n",
    "from sklearn.pipeline import Pipeline\n",
    "\n",
    "# Fill LotFrontage missing values with 0\n",
    "X.LotFrontage = X.LotFrontage.fillna(0)\n",
    "\n",
    "# Setup the pipeline steps: steps\n",
    "steps = [(\"ohe_onestep\", DictVectorizer(sparse=False)),\n",
    "         (\"xgb_model\", xgb.XGBRegressor())]\n",
    "\n",
    "# Create the pipeline: xgb_pipeline\n",
    "xgb_pipeline = Pipeline(steps)\n",
    "\n",
    "# Fit the pipeline\n",
    "xgb_pipeline.fit(X.to_dict(\"records\"), y)"
   ]
  },
  {
   "cell_type": "code",
   "execution_count": null,
   "id": "4ab4d0a2",
   "metadata": {},
   "outputs": [],
   "source": [
    "# Import necessary modules\n",
    "from sklearn_pandas import DataFrameMapper\n",
    "from sklearn_pandas import CategoricalImputer\n",
    "\n",
    "# Check number of nulls in each feature column\n",
    "nulls_per_column = X.isnull().sum()\n",
    "print(nulls_per_column)\n",
    "\n",
    "# Create a boolean mask for categorical columns\n",
    "categorical_feature_mask = X.dtypes == object\n",
    "\n",
    "# Get list of categorical column names\n",
    "categorical_columns = X.columns[categorical_feature_mask].tolist()\n",
    "\n",
    "# Get list of non-categorical column names\n",
    "non_categorical_columns = X.columns[~categorical_feature_mask].tolist()\n",
    "\n",
    "# Apply numeric imputer\n",
    "numeric_imputation_mapper = DataFrameMapper(\n",
    "                                            [([numeric_feature], Imputer(strategy=\"median\")) for numeric_feature in non_categorical_columns],\n",
    "                                            input_df=True,\n",
    "                                            df_out=True\n",
    "                                           )\n",
    "\n",
    "# Apply categorical imputer\n",
    "categorical_imputation_mapper = DataFrameMapper(\n",
    "                                                [(category_feature, CategoricalImputer()) for category_feature in categorical_columns],\n",
    "                                                input_df=True,\n",
    "                                                df_out=True\n",
    "                                               )"
   ]
  },
  {
   "cell_type": "code",
   "execution_count": null,
   "id": "ac0e18c4",
   "metadata": {},
   "outputs": [],
   "source": [
    "# Create full pipeline\n",
    "pipeline = Pipeline([\n",
    "                     (\"featureunion\", numeric_categorical_union),\n",
    "                     (\"dictifier\", Dictifier()),\n",
    "                     (\"vectorizer\", DictVectorizer(sort=False)),\n",
    "                     (\"clf\", xgb.XGBClassifier(max_depth=3))\n",
    "                    ])\n",
    "\n",
    "# Perform cross-validation\n",
    "cross_val_scores = cross_val_score(pipeline, kidney_data, y, scoring=\"roc_auc\", cv=3)\n",
    "\n",
    "# Print avg. AUC\n",
    "print(\"3-fold AUC: \", np.mean(cross_val_scores))"
   ]
  },
  {
   "cell_type": "code",
   "execution_count": null,
   "id": "5a3149ea",
   "metadata": {},
   "outputs": [],
   "source": [
    "# Create the parameter grid\n",
    "gbm_param_grid = {\n",
    "    'clf__learning_rate': np.arange(0.05, 1, 0.05),\n",
    "    'clf__max_depth': np.arange(3, 10, 1),\n",
    "    'clf__n_estimators': np.arange(50, 200, 50)\n",
    "}\n",
    "\n",
    "# Perform RandomizedSearchCV\n",
    "randomized_roc_auc = RandomizedSearchCV(estimator=pipeline,param_distributions=gbm_param_grid, n_iter = 2, scoring='roc_auc', cv=2, verbose = 1 )\n",
    "\n",
    "# Fit the estimator\n",
    "randomized_roc_auc.fit(X,y)\n",
    "\n",
    "# Compute metrics\n",
    "print(randomized_roc_auc.best_score_)\n",
    "print(randomized_roc_auc.best_estimator_)"
   ]
  },
  {
   "cell_type": "code",
   "execution_count": null,
   "id": "392e9f35",
   "metadata": {},
   "outputs": [],
   "source": []
  },
  {
   "cell_type": "code",
   "execution_count": null,
   "id": "64bc6532",
   "metadata": {},
   "outputs": [],
   "source": []
  },
  {
   "cell_type": "code",
   "execution_count": null,
   "id": "53715bd3",
   "metadata": {},
   "outputs": [],
   "source": []
  },
  {
   "cell_type": "code",
   "execution_count": null,
   "id": "5c610c05",
   "metadata": {},
   "outputs": [],
   "source": []
  },
  {
   "cell_type": "code",
   "execution_count": null,
   "id": "38d218dd",
   "metadata": {},
   "outputs": [],
   "source": []
  },
  {
   "cell_type": "code",
   "execution_count": null,
   "id": "dd67beb1",
   "metadata": {},
   "outputs": [],
   "source": []
  },
  {
   "cell_type": "code",
   "execution_count": null,
   "id": "bc1c7a51",
   "metadata": {},
   "outputs": [],
   "source": [
    "titanic_test.head()"
   ]
  },
  {
   "cell_type": "code",
   "execution_count": null,
   "id": "d53bee09",
   "metadata": {},
   "outputs": [],
   "source": [
    "titanic_test[['Cabin1', 'Cabin2', 'Cabin3']] = titanic_test['Cabin'].\\\n",
    "                str.extract(r'(?P<Cabin1>[A-Z]+\\d+)\\s?(?P<Cabin2>[A-Z]+\\d+)?\\s?(?P<Cabin3>[A-Z]+\\d+)?')"
   ]
  },
  {
   "cell_type": "code",
   "execution_count": null,
   "id": "e48c93ae",
   "metadata": {},
   "outputs": [],
   "source": [
    "titanic_test.drop(columns=['Ticket', 'Name','Cabin'], inplace = True)"
   ]
  },
  {
   "cell_type": "code",
   "execution_count": null,
   "id": "4ad0ce17",
   "metadata": {},
   "outputs": [],
   "source": [
    "titanic_test['CabinLetter'] = titanic_test['Cabin1'].str.extract(r'(?P<Cabin1_Code>[A-Z]+)')"
   ]
  },
  {
   "cell_type": "code",
   "execution_count": null,
   "id": "80bb920c",
   "metadata": {},
   "outputs": [],
   "source": [
    "titanic_test['Cabin1'] = np.where(titanic_test['Cabin1'].isnull(), 0, 1)\n",
    "titanic_test['Cabin2'] = np.where(titanic_test['Cabin2'].isnull(), 0, 1)\n",
    "titanic_test['Cabin3'] = np.where(titanic_test['Cabin3'].isnull(), 0, 1)\n",
    "titanic_test['CabinNum'] = titanic_test['Cabin1'] + titanic_test['Cabin2'] + titanic_test['Cabin3']"
   ]
  },
  {
   "cell_type": "code",
   "execution_count": null,
   "id": "e975488a",
   "metadata": {},
   "outputs": [],
   "source": [
    "titanic_test['MultipleCabins']=np.where(titanic_test['CabinNum'] > 1, 1, 0)"
   ]
  },
  {
   "cell_type": "code",
   "execution_count": null,
   "id": "d0146e3f",
   "metadata": {},
   "outputs": [],
   "source": [
    "titanic_test.drop(columns=['Cabin1', 'Cabin2','Cabin3','CabinNum'], inplace = True)"
   ]
  },
  {
   "cell_type": "code",
   "execution_count": null,
   "id": "38c81a83",
   "metadata": {},
   "outputs": [],
   "source": [
    "for column in ('Sex', 'Embarked','CabinLetter','Pclass'):\n",
    "    titanic_test[column] = titanic_test[column].astype('category')"
   ]
  },
  {
   "cell_type": "code",
   "execution_count": null,
   "id": "1de18c77",
   "metadata": {},
   "outputs": [],
   "source": [
    "titanic_test.head()"
   ]
  },
  {
   "cell_type": "code",
   "execution_count": null,
   "id": "f571083d",
   "metadata": {},
   "outputs": [],
   "source": [
    "#convert output to dataframe \n",
    "final_data = {'PassengerId': titanic_test.PassengerId, 'Survived': xgb_pipeline.predict(titanic_test.drop('PassengerId', axis = 1))}\n",
    "submission = pd.DataFrame(data=final_data)"
   ]
  },
  {
   "cell_type": "code",
   "execution_count": null,
   "id": "33cc0830",
   "metadata": {},
   "outputs": [],
   "source": [
    "submission.head()"
   ]
  },
  {
   "cell_type": "code",
   "execution_count": null,
   "id": "02c41b15",
   "metadata": {},
   "outputs": [],
   "source": [
    "submission.to_csv('submission_1.csv', index =False)"
   ]
  },
  {
   "cell_type": "code",
   "execution_count": null,
   "id": "682a1487",
   "metadata": {},
   "outputs": [],
   "source": [
    "titanic_training.Survived.value_counts()/len(titanic_training.Survived)"
   ]
  },
  {
   "cell_type": "code",
   "execution_count": null,
   "id": "94acba1f",
   "metadata": {},
   "outputs": [],
   "source": [
    "submission.Survived.value_counts()/len(submission.Survived)"
   ]
  },
  {
   "cell_type": "code",
   "execution_count": null,
   "id": "f12c4f4f",
   "metadata": {},
   "outputs": [],
   "source": [
    "submission.shape"
   ]
  },
  {
   "cell_type": "code",
   "execution_count": null,
   "id": "6c2a1de9",
   "metadata": {},
   "outputs": [],
   "source": []
  },
  {
   "cell_type": "code",
   "execution_count": null,
   "id": "26104792",
   "metadata": {},
   "outputs": [],
   "source": [
    "#convert output to dataframe \n",
    "final_data = {'PassengerId': titanic_test.PassengerId, 'Survived': logit_pipeline.predict(titanic_test.drop('PassengerId', axis = 1))}\n",
    "submission = pd.DataFrame(data=final_data)"
   ]
  },
  {
   "cell_type": "code",
   "execution_count": null,
   "id": "87df37dd",
   "metadata": {},
   "outputs": [],
   "source": [
    "submission.to_csv('submission_2.csv', index =False)"
   ]
  },
  {
   "cell_type": "code",
   "execution_count": null,
   "id": "9af3e5a2",
   "metadata": {},
   "outputs": [],
   "source": [
    "submission.Survived.value_counts()/len(submission.Survived)"
   ]
  },
  {
   "cell_type": "code",
   "execution_count": null,
   "id": "444bd309",
   "metadata": {},
   "outputs": [],
   "source": []
  },
  {
   "cell_type": "code",
   "execution_count": null,
   "id": "a8228dc6",
   "metadata": {},
   "outputs": [],
   "source": [
    "#titanic_training['MultipleCabins']=np.where(titanic_training['CabinNum'] > 1, 1, 0)\n",
    "#titanic_training.drop(columns=['Cabin1', 'Cabin2','Cabin3','CabinNum'], inplace = True)\n",
    "#titanic_training[['Cabin', 'TicketNum']] = titanic_training['Ticket'].str.split(\" \", 1, expand=True)\n",
    "#'neg_mean_squared_error'\n",
    "#'roc_auc'"
   ]
  },
  {
   "cell_type": "code",
   "execution_count": null,
   "id": "e3934772",
   "metadata": {},
   "outputs": [],
   "source": [
    "##Example Submission\n",
    "#example_submission = pd.read_csv('/Users/jpmcelyea/GIT_Code/Data-Science/Kaggle-Titanic/titanic/gender_submission.csv')\n",
    "#example_submission.head()"
   ]
  },
  {
   "cell_type": "code",
   "execution_count": null,
   "id": "580e6b06",
   "metadata": {},
   "outputs": [],
   "source": [
    "from sklearn.compose import ColumnTransformer\n",
    "from sklearn.preprocessing import OrdinalEncoder\n",
    "from sklearn.pipeline import Pipeline\n",
    "\n",
    "preprocessing = ColumnTransformer(remainder='passthrough',\n",
    "    transformers=[\n",
    "        ('vacation', OrdinalEncoder(categories=[['No', 'Yes'], ['No', 'Yes']]), ['VACATION', 'SW']),\n",
    "        ('slot', OrdinalEncoder(categories=[['Free', 'Controlled']]), ['SLOT']),\n",
    "        ('gate', OrdinalEncoder(categories=[['Free', 'Constrained']]), ['GATE']),\n",
    "    ]\n",
    ")\n",
    "\n",
    "model = LinearRegression(normalize=True)\n",
    "\n",
    "pipeline = Pipeline([\n",
    "    ['preprocessing', preprocessing],\n",
    "    ['model', model],\n",
    "])"
   ]
  },
  {
   "cell_type": "code",
   "execution_count": null,
   "id": "083c3046",
   "metadata": {},
   "outputs": [],
   "source": [
    "scaled_pipeline = Pipeline([\n",
    "    ['preprocessing', ColumnTransformer(remainder='passthrough', transformers=[\n",
    "        ('vacation', OrdinalEncoder(categories=[['No', 'Yes'], ['No', 'Yes']]), ['VACATION', 'SW']),\n",
    "        ('slot', OrdinalEncoder(categories=[['Free', 'Controlled']]), ['SLOT']),\n",
    "        ('gate', OrdinalEncoder(categories=[['Free', 'Constrained']]), ['GATE']),\n",
    "    ])],\n",
    "    ['scaler', StandardScaler()],\n",
    "    ['model', LinearRegression(normalize=True)],\n",
    "])"
   ]
  },
  {
   "cell_type": "code",
   "execution_count": null,
   "id": "8137749e",
   "metadata": {},
   "outputs": [],
   "source": [
    "classifier = Pipeline([\n",
    "    ['model', VotingClassifier([\n",
    "        ('logit', LogisticRegression(penalty=\"l2\", C=1e42, solver='liblinear')),\n",
    "        ('dtree', DecisionTreeClassifier()),\n",
    "        ('bagging', BaggingClassifier(DecisionTreeClassifier(), max_samples=0.5, max_features=0.5)),\n",
    "        ('boosted', AdaBoostClassifier(n_estimators=100, base_estimator=DecisionTreeClassifier())),\n",
    "        ('rf', RandomForestClassifier(max_features=3, min_samples_split=300,\n",
    "                                      random_state=0, n_estimators=100, criterion='entropy')),\n",
    "        ('lda', LinearDiscriminantAnalysis()),\n",
    "        ('nn', Pipeline([\n",
    "            ('scaler', MinMaxScaler()),\n",
    "            ('nn', MLPClassifier(hidden_layer_sizes=(10), activation='logistic', solver='lbfgs', \n",
    "                                 random_state=12, max_iter=5000)),\n",
    "        ]))\n",
    "    ], voting='soft')]\n",
    "])"
   ]
  },
  {
   "cell_type": "code",
   "execution_count": null,
   "id": "8ed00e6e",
   "metadata": {},
   "outputs": [],
   "source": [
    "import numpy as np\n",
    "from sklearn.model_selection import cross_validate\n",
    "\n",
    "scores = cross_validate(scaled_pipeline, X, y, \n",
    "                        scoring=('r2', 'neg_mean_absolute_error'), cv=5)"
   ]
  },
  {
   "cell_type": "code",
   "execution_count": null,
   "id": "656c16e0",
   "metadata": {},
   "outputs": [],
   "source": [
    "from sklearn.preprocessing import OrdinalEncoder\n",
    "knn_pipeline = Pipeline(steps =[\n",
    "    ['preprocessing', \n",
    "     ColumnTransformer(remainder='passthrough',\n",
    "     transformers=[\n",
    "             ('imputer', SimpleImputer(strategy='mean'), ['Age']),\n",
    "             ('dummies', OneHotEncoder(), X.select_dtypes(include=['category']).columns),\n",
    "             ('name', OrdinalEncoder(categories=[['Standard', 'Elite']]), ['NameTitle'])\n",
    "              ])]\n",
    "    ,('scaler', StandardScaler())\n",
    "    ,('model', KNeighborsClassifier())\n",
    "    ])"
   ]
  }
 ],
 "metadata": {
  "kernelspec": {
   "display_name": "Python 3",
   "language": "python",
   "name": "python3"
  },
  "language_info": {
   "codemirror_mode": {
    "name": "ipython",
    "version": 3
   },
   "file_extension": ".py",
   "mimetype": "text/x-python",
   "name": "python",
   "nbconvert_exporter": "python",
   "pygments_lexer": "ipython3",
   "version": "3.8.8"
  }
 },
 "nbformat": 4,
 "nbformat_minor": 5
}
