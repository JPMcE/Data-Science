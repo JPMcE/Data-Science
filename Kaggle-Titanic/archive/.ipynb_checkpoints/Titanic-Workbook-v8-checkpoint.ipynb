{
 "cells": [
  {
   "cell_type": "markdown",
   "id": "823a0ada",
   "metadata": {},
   "source": [
    "### Import Packages and Load Data"
   ]
  },
  {
   "cell_type": "code",
   "execution_count": 1,
   "id": "fc7b3cfe",
   "metadata": {},
   "outputs": [],
   "source": [
    "import numpy as np\n",
    "import seaborn as sns\n",
    "import pandas as pd\n",
    "import matplotlib.pyplot as plt\n",
    "%matplotlib inline\n",
    "\n",
    "pd.set_option('display.max_rows', 500)\n",
    "pd.set_option('display.max_columns', 500)"
   ]
  },
  {
   "cell_type": "code",
   "execution_count": 106,
   "id": "5377cf7a",
   "metadata": {},
   "outputs": [],
   "source": [
    "from sklearn.model_selection import train_test_split, RandomizedSearchCV, GridSearchCV\n",
    "from sklearn.metrics import accuracy_score\n",
    "from sklearn.linear_model import LogisticRegression\n",
    "from sklearn.neighbors import KNeighborsClassifier\n",
    "from sklearn.ensemble import RandomForestClassifier\n",
    "from sklearn.tree import DecisionTreeClassifier\n",
    "from sklearn.svm import SVC\n",
    "from sklearn import preprocessing\n",
    "from sklearn import set_config\n",
    "from sklearn.preprocessing import OrdinalEncoder,OneHotEncoder, FunctionTransformer, StandardScaler\n",
    "from sklearn.pipeline import Pipeline\n",
    "from sklearn.compose import ColumnTransformer\n",
    "from sklearn.impute import SimpleImputer\n",
    "from sklearn.model_selection import cross_val_score,cross_validate\n",
    "from sklearn.ensemble import VotingClassifier\n",
    "import xgboost as xgb"
   ]
  },
  {
   "cell_type": "code",
   "execution_count": 3,
   "id": "8fe24d4c",
   "metadata": {},
   "outputs": [],
   "source": [
    "titanic_training = pd.read_csv('/Users/jpmcelyea/GIT_Code/Data-Science/Kaggle-Titanic/titanic/train.csv')"
   ]
  },
  {
   "cell_type": "code",
   "execution_count": 125,
   "id": "3c2458f0",
   "metadata": {},
   "outputs": [],
   "source": [
    "titanic_test = pd.read_csv('/Users/jpmcelyea/GIT_Code/Data-Science/Kaggle-Titanic/titanic/test.csv')"
   ]
  },
  {
   "cell_type": "markdown",
   "id": "b695afb7",
   "metadata": {},
   "source": [
    "### Data Preprocessing + Feature Engineering"
   ]
  },
  {
   "cell_type": "code",
   "execution_count": 5,
   "id": "cd876b10",
   "metadata": {},
   "outputs": [
    {
     "data": {
      "text/html": [
       "<div>\n",
       "<style scoped>\n",
       "    .dataframe tbody tr th:only-of-type {\n",
       "        vertical-align: middle;\n",
       "    }\n",
       "\n",
       "    .dataframe tbody tr th {\n",
       "        vertical-align: top;\n",
       "    }\n",
       "\n",
       "    .dataframe thead th {\n",
       "        text-align: right;\n",
       "    }\n",
       "</style>\n",
       "<table border=\"1\" class=\"dataframe\">\n",
       "  <thead>\n",
       "    <tr style=\"text-align: right;\">\n",
       "      <th></th>\n",
       "      <th>PassengerId</th>\n",
       "      <th>Survived</th>\n",
       "      <th>Pclass</th>\n",
       "      <th>Name</th>\n",
       "      <th>Sex</th>\n",
       "      <th>Age</th>\n",
       "      <th>SibSp</th>\n",
       "      <th>Parch</th>\n",
       "      <th>Ticket</th>\n",
       "      <th>Fare</th>\n",
       "      <th>Cabin</th>\n",
       "      <th>Embarked</th>\n",
       "    </tr>\n",
       "  </thead>\n",
       "  <tbody>\n",
       "    <tr>\n",
       "      <th>0</th>\n",
       "      <td>1</td>\n",
       "      <td>0</td>\n",
       "      <td>3</td>\n",
       "      <td>Braund, Mr. Owen Harris</td>\n",
       "      <td>male</td>\n",
       "      <td>22.0</td>\n",
       "      <td>1</td>\n",
       "      <td>0</td>\n",
       "      <td>A/5 21171</td>\n",
       "      <td>7.2500</td>\n",
       "      <td>NaN</td>\n",
       "      <td>S</td>\n",
       "    </tr>\n",
       "    <tr>\n",
       "      <th>1</th>\n",
       "      <td>2</td>\n",
       "      <td>1</td>\n",
       "      <td>1</td>\n",
       "      <td>Cumings, Mrs. John Bradley (Florence Briggs Th...</td>\n",
       "      <td>female</td>\n",
       "      <td>38.0</td>\n",
       "      <td>1</td>\n",
       "      <td>0</td>\n",
       "      <td>PC 17599</td>\n",
       "      <td>71.2833</td>\n",
       "      <td>C85</td>\n",
       "      <td>C</td>\n",
       "    </tr>\n",
       "    <tr>\n",
       "      <th>2</th>\n",
       "      <td>3</td>\n",
       "      <td>1</td>\n",
       "      <td>3</td>\n",
       "      <td>Heikkinen, Miss. Laina</td>\n",
       "      <td>female</td>\n",
       "      <td>26.0</td>\n",
       "      <td>0</td>\n",
       "      <td>0</td>\n",
       "      <td>STON/O2. 3101282</td>\n",
       "      <td>7.9250</td>\n",
       "      <td>NaN</td>\n",
       "      <td>S</td>\n",
       "    </tr>\n",
       "    <tr>\n",
       "      <th>3</th>\n",
       "      <td>4</td>\n",
       "      <td>1</td>\n",
       "      <td>1</td>\n",
       "      <td>Futrelle, Mrs. Jacques Heath (Lily May Peel)</td>\n",
       "      <td>female</td>\n",
       "      <td>35.0</td>\n",
       "      <td>1</td>\n",
       "      <td>0</td>\n",
       "      <td>113803</td>\n",
       "      <td>53.1000</td>\n",
       "      <td>C123</td>\n",
       "      <td>S</td>\n",
       "    </tr>\n",
       "    <tr>\n",
       "      <th>4</th>\n",
       "      <td>5</td>\n",
       "      <td>0</td>\n",
       "      <td>3</td>\n",
       "      <td>Allen, Mr. William Henry</td>\n",
       "      <td>male</td>\n",
       "      <td>35.0</td>\n",
       "      <td>0</td>\n",
       "      <td>0</td>\n",
       "      <td>373450</td>\n",
       "      <td>8.0500</td>\n",
       "      <td>NaN</td>\n",
       "      <td>S</td>\n",
       "    </tr>\n",
       "  </tbody>\n",
       "</table>\n",
       "</div>"
      ],
      "text/plain": [
       "   PassengerId  Survived  Pclass  \\\n",
       "0            1         0       3   \n",
       "1            2         1       1   \n",
       "2            3         1       3   \n",
       "3            4         1       1   \n",
       "4            5         0       3   \n",
       "\n",
       "                                                Name     Sex   Age  SibSp  \\\n",
       "0                            Braund, Mr. Owen Harris    male  22.0      1   \n",
       "1  Cumings, Mrs. John Bradley (Florence Briggs Th...  female  38.0      1   \n",
       "2                             Heikkinen, Miss. Laina  female  26.0      0   \n",
       "3       Futrelle, Mrs. Jacques Heath (Lily May Peel)  female  35.0      1   \n",
       "4                           Allen, Mr. William Henry    male  35.0      0   \n",
       "\n",
       "   Parch            Ticket     Fare Cabin Embarked  \n",
       "0      0         A/5 21171   7.2500   NaN        S  \n",
       "1      0          PC 17599  71.2833   C85        C  \n",
       "2      0  STON/O2. 3101282   7.9250   NaN        S  \n",
       "3      0            113803  53.1000  C123        S  \n",
       "4      0            373450   8.0500   NaN        S  "
      ]
     },
     "execution_count": 5,
     "metadata": {},
     "output_type": "execute_result"
    }
   ],
   "source": [
    "titanic_training.head()"
   ]
  },
  {
   "cell_type": "code",
   "execution_count": 6,
   "id": "d4ebcd44",
   "metadata": {},
   "outputs": [],
   "source": [
    "##Preprocessing and Feature Engineering\n",
    "\n",
    "titanic_training.set_index(\"PassengerId\", inplace=True)\n",
    "\n",
    "titanic_training[['Cabin1', 'Cabin2', 'Cabin3']] = titanic_training['Cabin'].\\\n",
    "                str.extract(r'(?P<Cabin1>[A-Z]+\\d+)\\s?(?P<Cabin2>[A-Z]+\\d+)?\\s?(?P<Cabin3>[A-Z]+\\d+)?')\n",
    "\n",
    "titanic_training['CabinLetter'] = titanic_training['Cabin1'].str.extract(r'(?P<Cabin1_Code>[A-Z]+)')\n",
    "\n",
    "titanic_training['Cabin1'] = np.where(titanic_training['Cabin1'].isnull(), 0, 1)\n",
    "titanic_training['Cabin2'] = np.where(titanic_training['Cabin2'].isnull(), 0, 1)\n",
    "titanic_training['Cabin3'] = np.where(titanic_training['Cabin3'].isnull(), 0, 1)\n",
    "titanic_training['CabinNum'] = titanic_training['Cabin1'] + titanic_training['Cabin2'] + titanic_training['Cabin3']\n",
    "\n",
    "titanic_training['CabinLetter'] = titanic_training['CabinLetter'].fillna(value = 'N')\n",
    "\n",
    "titanic_training[['TicketLetter', 'TicketNum']] = titanic_training['Ticket'].str.split(\" \", 1, expand=True)\n",
    "\n",
    "titanic_training[['TicketLetter', 'TicketNum']] = titanic_training['Ticket'].\\\n",
    "                str.extract(r'([\\w\\/\\.]+)\\s(\\d+)')\n",
    "\n",
    "titanic_training['TicketSpecial'] = np.where(pd.isna(titanic_training['TicketLetter']), 0 ,1)\n",
    "\n",
    "titanic_training[['NameTitle']] = titanic_training['Name'].\\\n",
    "                str.extract(r'((?<=\\,\\s)[\\w]+)')\n",
    "\n",
    "titanic_training['NameTitle'] = np.where(titanic_training['NameTitle'].\\\n",
    "                                         isin(['Mr', 'Mrs', 'Miss']), 'Standard', 'Elite')\n",
    "\n",
    "for column in ('Sex', 'Embarked','CabinLetter','Pclass', 'NameTitle'):\n",
    "    titanic_training[column] = titanic_training[column].astype('category')\n",
    "    \n",
    "titanic_training.\\\n",
    "drop(columns=['Cabin1', 'Cabin2','Cabin3','Ticket', 'Name','Cabin','TicketLetter', 'TicketNum'], inplace = True)"
   ]
  },
  {
   "cell_type": "code",
   "execution_count": 7,
   "id": "8e2b1fef",
   "metadata": {},
   "outputs": [
    {
     "name": "stdout",
     "output_type": "stream",
     "text": [
      "Age         177\n",
      "Embarked      2\n",
      "dtype: int64\n",
      "Age         0.198653\n",
      "Embarked    0.002245\n",
      "dtype: float64\n"
     ]
    }
   ],
   "source": [
    "nullseries = titanic_training.isnull().sum()\n",
    "print(nullseries[nullseries > 0])\n",
    "\n",
    "nullseries = titanic_training.isnull().sum()/len(titanic_training)\n",
    "print(nullseries[nullseries > 0])"
   ]
  },
  {
   "cell_type": "code",
   "execution_count": null,
   "id": "aef466c9",
   "metadata": {},
   "outputs": [],
   "source": [
    "#titanic_training.describe()\n",
    "#titanic_training.dtypes"
   ]
  },
  {
   "cell_type": "code",
   "execution_count": 8,
   "id": "23c6963e",
   "metadata": {},
   "outputs": [
    {
     "data": {
      "text/html": [
       "<div>\n",
       "<style scoped>\n",
       "    .dataframe tbody tr th:only-of-type {\n",
       "        vertical-align: middle;\n",
       "    }\n",
       "\n",
       "    .dataframe tbody tr th {\n",
       "        vertical-align: top;\n",
       "    }\n",
       "\n",
       "    .dataframe thead th {\n",
       "        text-align: right;\n",
       "    }\n",
       "</style>\n",
       "<table border=\"1\" class=\"dataframe\">\n",
       "  <thead>\n",
       "    <tr style=\"text-align: right;\">\n",
       "      <th></th>\n",
       "      <th>Survived</th>\n",
       "      <th>Pclass</th>\n",
       "      <th>Sex</th>\n",
       "      <th>Age</th>\n",
       "      <th>SibSp</th>\n",
       "      <th>Parch</th>\n",
       "      <th>Fare</th>\n",
       "      <th>Embarked</th>\n",
       "      <th>CabinLetter</th>\n",
       "      <th>CabinNum</th>\n",
       "      <th>TicketSpecial</th>\n",
       "      <th>NameTitle</th>\n",
       "    </tr>\n",
       "    <tr>\n",
       "      <th>PassengerId</th>\n",
       "      <th></th>\n",
       "      <th></th>\n",
       "      <th></th>\n",
       "      <th></th>\n",
       "      <th></th>\n",
       "      <th></th>\n",
       "      <th></th>\n",
       "      <th></th>\n",
       "      <th></th>\n",
       "      <th></th>\n",
       "      <th></th>\n",
       "      <th></th>\n",
       "    </tr>\n",
       "  </thead>\n",
       "  <tbody>\n",
       "    <tr>\n",
       "      <th>1</th>\n",
       "      <td>0</td>\n",
       "      <td>3</td>\n",
       "      <td>male</td>\n",
       "      <td>22.0</td>\n",
       "      <td>1</td>\n",
       "      <td>0</td>\n",
       "      <td>7.2500</td>\n",
       "      <td>S</td>\n",
       "      <td>N</td>\n",
       "      <td>0</td>\n",
       "      <td>1</td>\n",
       "      <td>Standard</td>\n",
       "    </tr>\n",
       "    <tr>\n",
       "      <th>2</th>\n",
       "      <td>1</td>\n",
       "      <td>1</td>\n",
       "      <td>female</td>\n",
       "      <td>38.0</td>\n",
       "      <td>1</td>\n",
       "      <td>0</td>\n",
       "      <td>71.2833</td>\n",
       "      <td>C</td>\n",
       "      <td>C</td>\n",
       "      <td>1</td>\n",
       "      <td>1</td>\n",
       "      <td>Standard</td>\n",
       "    </tr>\n",
       "    <tr>\n",
       "      <th>3</th>\n",
       "      <td>1</td>\n",
       "      <td>3</td>\n",
       "      <td>female</td>\n",
       "      <td>26.0</td>\n",
       "      <td>0</td>\n",
       "      <td>0</td>\n",
       "      <td>7.9250</td>\n",
       "      <td>S</td>\n",
       "      <td>N</td>\n",
       "      <td>0</td>\n",
       "      <td>1</td>\n",
       "      <td>Standard</td>\n",
       "    </tr>\n",
       "    <tr>\n",
       "      <th>4</th>\n",
       "      <td>1</td>\n",
       "      <td>1</td>\n",
       "      <td>female</td>\n",
       "      <td>35.0</td>\n",
       "      <td>1</td>\n",
       "      <td>0</td>\n",
       "      <td>53.1000</td>\n",
       "      <td>S</td>\n",
       "      <td>C</td>\n",
       "      <td>1</td>\n",
       "      <td>0</td>\n",
       "      <td>Standard</td>\n",
       "    </tr>\n",
       "    <tr>\n",
       "      <th>5</th>\n",
       "      <td>0</td>\n",
       "      <td>3</td>\n",
       "      <td>male</td>\n",
       "      <td>35.0</td>\n",
       "      <td>0</td>\n",
       "      <td>0</td>\n",
       "      <td>8.0500</td>\n",
       "      <td>S</td>\n",
       "      <td>N</td>\n",
       "      <td>0</td>\n",
       "      <td>0</td>\n",
       "      <td>Standard</td>\n",
       "    </tr>\n",
       "  </tbody>\n",
       "</table>\n",
       "</div>"
      ],
      "text/plain": [
       "             Survived Pclass     Sex   Age  SibSp  Parch     Fare Embarked  \\\n",
       "PassengerId                                                                  \n",
       "1                   0      3    male  22.0      1      0   7.2500        S   \n",
       "2                   1      1  female  38.0      1      0  71.2833        C   \n",
       "3                   1      3  female  26.0      0      0   7.9250        S   \n",
       "4                   1      1  female  35.0      1      0  53.1000        S   \n",
       "5                   0      3    male  35.0      0      0   8.0500        S   \n",
       "\n",
       "            CabinLetter  CabinNum  TicketSpecial NameTitle  \n",
       "PassengerId                                                 \n",
       "1                     N         0              1  Standard  \n",
       "2                     C         1              1  Standard  \n",
       "3                     N         0              1  Standard  \n",
       "4                     C         1              0  Standard  \n",
       "5                     N         0              0  Standard  "
      ]
     },
     "execution_count": 8,
     "metadata": {},
     "output_type": "execute_result"
    }
   ],
   "source": [
    "titanic_training.head()"
   ]
  },
  {
   "cell_type": "markdown",
   "id": "90148baf",
   "metadata": {},
   "source": [
    "### Model Selection"
   ]
  },
  {
   "cell_type": "code",
   "execution_count": 9,
   "id": "a003378b",
   "metadata": {},
   "outputs": [],
   "source": [
    "X = titanic_training.drop('Survived', axis=1)\n",
    "y = titanic_training['Survived']"
   ]
  },
  {
   "cell_type": "code",
   "execution_count": 101,
   "id": "ac34b0d6",
   "metadata": {},
   "outputs": [],
   "source": [
    "xgb_pipeline = Pipeline(steps =[\n",
    "    ['preprocessing', \n",
    "     ColumnTransformer(remainder='passthrough',\n",
    "     transformers=[(\n",
    "             'dummies', OneHotEncoder(drop='first'), X.select_dtypes(include=['category']).columns)\n",
    "              ])]\n",
    "    ,('model', xgb.XGBClassifier(use_label_encoder=False, verbosity=0, random_state=123))\n",
    "    ])"
   ]
  },
  {
   "cell_type": "code",
   "execution_count": 109,
   "id": "295982d5",
   "metadata": {},
   "outputs": [],
   "source": [
    "svm_pipeline = Pipeline(steps =[\n",
    "    ['preprocessing', \n",
    "     ColumnTransformer(remainder='passthrough',\n",
    "     transformers=[\n",
    "             ('imputer', SimpleImputer(strategy='mean'), ['Age', 'Fare']),\n",
    "             ('dummies', OneHotEncoder(), X.select_dtypes(include=['category']).columns)\n",
    "              ])]\n",
    "    ,('scaler', StandardScaler())\n",
    "    ,('model', SVC(random_state = 123))\n",
    "    ])"
   ]
  },
  {
   "cell_type": "code",
   "execution_count": 110,
   "id": "febec78f",
   "metadata": {},
   "outputs": [
    {
     "data": {
      "text/plain": [
       "0.8294143493817087"
      ]
     },
     "execution_count": 110,
     "metadata": {},
     "output_type": "execute_result"
    }
   ],
   "source": [
    "scores = cross_val_score(svm_pipeline, X, y, \n",
    "                        scoring=('accuracy'), cv=5)\n",
    "\n",
    "scores.mean()"
   ]
  },
  {
   "cell_type": "code",
   "execution_count": 93,
   "id": "7566aad0",
   "metadata": {},
   "outputs": [],
   "source": [
    "#xgb_pipeline = Pipeline(steps =[\n",
    "#    ['preprocessing', \n",
    "#     ColumnTransformer(remainder='passthrough',\n",
    "#     transformers=[\n",
    "#             ('dummies', OneHotEncoder(drop='first'), ['Pclass', 'Embarked', 'CabinLetter']),\n",
    "#             ('ordinal', OrdinalEncoder(), ['Sex', 'NameTitle']),\n",
    "#              ])]\n",
    "#    ,('model', xgb.XGBClassifier(use_label_encoder=False, verbosity=0, random_state=123))\n",
    "#    ])"
   ]
  },
  {
   "cell_type": "markdown",
   "id": "2ef3935a",
   "metadata": {},
   "source": [
    "### Tune the Model"
   ]
  },
  {
   "cell_type": "code",
   "execution_count": 65,
   "id": "4f6dd0cb",
   "metadata": {},
   "outputs": [],
   "source": [
    "#param_grid = {'model__max_depth': [8,12,14],\n",
    "#             'model__n_estimators': [20,30],\n",
    "#             'model__learning_rate':[0.2,0.25,0.3],\n",
    "#             'model__colsample_bytree': [0.8,0.9,1]}"
   ]
  },
  {
   "cell_type": "code",
   "execution_count": 102,
   "id": "1bad9132",
   "metadata": {},
   "outputs": [],
   "source": [
    "param_grid = {'model__max_depth': [7,8,9,10],\n",
    "             'model__n_estimators': [20,50],\n",
    "             'model__learning_rate':[0.04,0.05,0.06]}"
   ]
  },
  {
   "cell_type": "code",
   "execution_count": 103,
   "id": "e1639239",
   "metadata": {},
   "outputs": [],
   "source": [
    "grid_xgb = GridSearchCV(\n",
    "    estimator=xgb_pipeline,\n",
    "    param_grid=param_grid,\n",
    "    n_jobs = -1,\n",
    "    scoring = 'accuracy',\n",
    "    cv=10)\n",
    "\n",
    "grid_xgb.fit(X, y);"
   ]
  },
  {
   "cell_type": "code",
   "execution_count": 104,
   "id": "1b0d5f3f",
   "metadata": {},
   "outputs": [
    {
     "name": "stdout",
     "output_type": "stream",
     "text": [
      "0.8383770287141074\n",
      "{'model__learning_rate': 0.05, 'model__max_depth': 9, 'model__n_estimators': 50}\n",
      "0.9180695847362514\n"
     ]
    }
   ],
   "source": [
    "print(grid_xgb.best_score_)\n",
    "print(grid_xgb.best_params_)\n",
    "xgb_model_best = grid_xgb.best_estimator_;\n",
    "print(xgb_model_best.score(X, y))"
   ]
  },
  {
   "cell_type": "code",
   "execution_count": null,
   "id": "00bff1a0",
   "metadata": {},
   "outputs": [],
   "source": [
    "0.8383770287141074\n",
    "{'model__learning_rate': 0.05, 'model__max_depth': 9, 'model__n_estimators': 50}\n",
    "0.9180695847362514"
   ]
  },
  {
   "cell_type": "code",
   "execution_count": 71,
   "id": "02ee3ac7",
   "metadata": {},
   "outputs": [],
   "source": [
    "# Read the cv_results property into a dataframe & print it out\n",
    "#cv_results_df = pd.DataFrame(grid_xgb.cv_results_)\n",
    "#print(cv_results_df)\n",
    "\n",
    "# Extract and print the column with a dictionary of hyperparameters used\n",
    "#column = cv_results_df.loc[:, ['params']]\n",
    "#print(column)"
   ]
  },
  {
   "cell_type": "code",
   "execution_count": 121,
   "id": "04b99dfc",
   "metadata": {},
   "outputs": [],
   "source": [
    "param_grid = {'model__C': [4.28],\n",
    "             'model__gamma': ['scale','auto']}"
   ]
  },
  {
   "cell_type": "code",
   "execution_count": 122,
   "id": "5de4b5c1",
   "metadata": {},
   "outputs": [],
   "source": [
    "grid_svm = GridSearchCV(\n",
    "    estimator=svm_pipeline,\n",
    "    param_grid=param_grid,\n",
    "    n_jobs = -1,\n",
    "    scoring = 'accuracy',\n",
    "    cv=10)\n",
    "\n",
    "grid_svm.fit(X, y);"
   ]
  },
  {
   "cell_type": "code",
   "execution_count": 123,
   "id": "f52e1d46",
   "metadata": {},
   "outputs": [
    {
     "name": "stdout",
     "output_type": "stream",
     "text": [
      "0.838414481897628\n",
      "{'model__C': 4.28, 'model__gamma': 'scale'}\n",
      "0.8765432098765432\n"
     ]
    }
   ],
   "source": [
    "print(grid_svm.best_score_)\n",
    "print(grid_svm.best_params_)\n",
    "svm_model_best = grid_svm.best_estimator_;\n",
    "print(svm_model_best.score(X, y))"
   ]
  },
  {
   "cell_type": "code",
   "execution_count": null,
   "id": "d2d8d42d",
   "metadata": {},
   "outputs": [],
   "source": [
    "0.838414481897628\n",
    "{'model__C': 4.281332398719396, 'model__gamma': 'scale'}\n",
    "0.8765432098765432"
   ]
  },
  {
   "cell_type": "markdown",
   "id": "22050e10",
   "metadata": {},
   "source": [
    "### Fit Model To Test Data"
   ]
  },
  {
   "cell_type": "code",
   "execution_count": 126,
   "id": "bc1c7a51",
   "metadata": {},
   "outputs": [
    {
     "data": {
      "text/html": [
       "<div>\n",
       "<style scoped>\n",
       "    .dataframe tbody tr th:only-of-type {\n",
       "        vertical-align: middle;\n",
       "    }\n",
       "\n",
       "    .dataframe tbody tr th {\n",
       "        vertical-align: top;\n",
       "    }\n",
       "\n",
       "    .dataframe thead th {\n",
       "        text-align: right;\n",
       "    }\n",
       "</style>\n",
       "<table border=\"1\" class=\"dataframe\">\n",
       "  <thead>\n",
       "    <tr style=\"text-align: right;\">\n",
       "      <th></th>\n",
       "      <th>PassengerId</th>\n",
       "      <th>Pclass</th>\n",
       "      <th>Name</th>\n",
       "      <th>Sex</th>\n",
       "      <th>Age</th>\n",
       "      <th>SibSp</th>\n",
       "      <th>Parch</th>\n",
       "      <th>Ticket</th>\n",
       "      <th>Fare</th>\n",
       "      <th>Cabin</th>\n",
       "      <th>Embarked</th>\n",
       "    </tr>\n",
       "  </thead>\n",
       "  <tbody>\n",
       "    <tr>\n",
       "      <th>0</th>\n",
       "      <td>892</td>\n",
       "      <td>3</td>\n",
       "      <td>Kelly, Mr. James</td>\n",
       "      <td>male</td>\n",
       "      <td>34.5</td>\n",
       "      <td>0</td>\n",
       "      <td>0</td>\n",
       "      <td>330911</td>\n",
       "      <td>7.8292</td>\n",
       "      <td>NaN</td>\n",
       "      <td>Q</td>\n",
       "    </tr>\n",
       "    <tr>\n",
       "      <th>1</th>\n",
       "      <td>893</td>\n",
       "      <td>3</td>\n",
       "      <td>Wilkes, Mrs. James (Ellen Needs)</td>\n",
       "      <td>female</td>\n",
       "      <td>47.0</td>\n",
       "      <td>1</td>\n",
       "      <td>0</td>\n",
       "      <td>363272</td>\n",
       "      <td>7.0000</td>\n",
       "      <td>NaN</td>\n",
       "      <td>S</td>\n",
       "    </tr>\n",
       "    <tr>\n",
       "      <th>2</th>\n",
       "      <td>894</td>\n",
       "      <td>2</td>\n",
       "      <td>Myles, Mr. Thomas Francis</td>\n",
       "      <td>male</td>\n",
       "      <td>62.0</td>\n",
       "      <td>0</td>\n",
       "      <td>0</td>\n",
       "      <td>240276</td>\n",
       "      <td>9.6875</td>\n",
       "      <td>NaN</td>\n",
       "      <td>Q</td>\n",
       "    </tr>\n",
       "    <tr>\n",
       "      <th>3</th>\n",
       "      <td>895</td>\n",
       "      <td>3</td>\n",
       "      <td>Wirz, Mr. Albert</td>\n",
       "      <td>male</td>\n",
       "      <td>27.0</td>\n",
       "      <td>0</td>\n",
       "      <td>0</td>\n",
       "      <td>315154</td>\n",
       "      <td>8.6625</td>\n",
       "      <td>NaN</td>\n",
       "      <td>S</td>\n",
       "    </tr>\n",
       "    <tr>\n",
       "      <th>4</th>\n",
       "      <td>896</td>\n",
       "      <td>3</td>\n",
       "      <td>Hirvonen, Mrs. Alexander (Helga E Lindqvist)</td>\n",
       "      <td>female</td>\n",
       "      <td>22.0</td>\n",
       "      <td>1</td>\n",
       "      <td>1</td>\n",
       "      <td>3101298</td>\n",
       "      <td>12.2875</td>\n",
       "      <td>NaN</td>\n",
       "      <td>S</td>\n",
       "    </tr>\n",
       "  </tbody>\n",
       "</table>\n",
       "</div>"
      ],
      "text/plain": [
       "   PassengerId  Pclass                                          Name     Sex  \\\n",
       "0          892       3                              Kelly, Mr. James    male   \n",
       "1          893       3              Wilkes, Mrs. James (Ellen Needs)  female   \n",
       "2          894       2                     Myles, Mr. Thomas Francis    male   \n",
       "3          895       3                              Wirz, Mr. Albert    male   \n",
       "4          896       3  Hirvonen, Mrs. Alexander (Helga E Lindqvist)  female   \n",
       "\n",
       "    Age  SibSp  Parch   Ticket     Fare Cabin Embarked  \n",
       "0  34.5      0      0   330911   7.8292   NaN        Q  \n",
       "1  47.0      1      0   363272   7.0000   NaN        S  \n",
       "2  62.0      0      0   240276   9.6875   NaN        Q  \n",
       "3  27.0      0      0   315154   8.6625   NaN        S  \n",
       "4  22.0      1      1  3101298  12.2875   NaN        S  "
      ]
     },
     "execution_count": 126,
     "metadata": {},
     "output_type": "execute_result"
    }
   ],
   "source": [
    "titanic_test.head()"
   ]
  },
  {
   "cell_type": "code",
   "execution_count": 127,
   "id": "179bd93f",
   "metadata": {},
   "outputs": [],
   "source": [
    "##Preprocessing and Feature Engineering\n",
    "\n",
    "titanic_test[['Cabin1', 'Cabin2', 'Cabin3']] = titanic_test['Cabin'].\\\n",
    "                str.extract(r'(?P<Cabin1>[A-Z]+\\d+)\\s?(?P<Cabin2>[A-Z]+\\d+)?\\s?(?P<Cabin3>[A-Z]+\\d+)?')\n",
    "\n",
    "titanic_test['CabinLetter'] = titanic_test['Cabin1'].str.extract(r'(?P<Cabin1_Code>[A-Z]+)')\n",
    "\n",
    "titanic_test['Cabin1'] = np.where(titanic_test['Cabin1'].isnull(), 0, 1)\n",
    "titanic_test['Cabin2'] = np.where(titanic_test['Cabin2'].isnull(), 0, 1)\n",
    "titanic_test['Cabin3'] = np.where(titanic_test['Cabin3'].isnull(), 0, 1)\n",
    "titanic_test['CabinNum'] = titanic_test['Cabin1'] + titanic_test['Cabin2'] + titanic_test['Cabin3']\n",
    "\n",
    "titanic_test['CabinLetter'] = titanic_test['CabinLetter'].fillna(value = 'N')\n",
    "\n",
    "titanic_test[['TicketLetter', 'TicketNum']] = titanic_test['Ticket'].str.split(\" \", 1, expand=True)\n",
    "\n",
    "titanic_test[['TicketLetter', 'TicketNum']] = titanic_test['Ticket'].\\\n",
    "                str.extract(r'([\\w\\/\\.]+)\\s(\\d+)')\n",
    "\n",
    "titanic_test['TicketSpecial'] = np.where(pd.isna(titanic_test['TicketLetter']), 0 ,1)\n",
    "\n",
    "titanic_test[['NameTitle']] = titanic_test['Name'].\\\n",
    "                str.extract(r'((?<=\\,\\s)[\\w]+)')\n",
    "\n",
    "titanic_test['NameTitle'] = np.where(titanic_test['NameTitle'].\\\n",
    "                                         isin(['Mr', 'Mrs', 'Miss']), 'Standard', 'Elite')\n",
    "\n",
    "for column in ('Sex', 'Embarked','CabinLetter','Pclass', 'NameTitle'):\n",
    "    titanic_test[column] = titanic_test[column].astype('category')\n",
    "    \n",
    "titanic_test.\\\n",
    "drop(columns=['Cabin1', 'Cabin2','Cabin3','Ticket', 'Name','Cabin','TicketLetter', 'TicketNum'], inplace = True)"
   ]
  },
  {
   "cell_type": "code",
   "execution_count": 128,
   "id": "4cee0efa",
   "metadata": {},
   "outputs": [
    {
     "data": {
      "text/html": [
       "<div>\n",
       "<style scoped>\n",
       "    .dataframe tbody tr th:only-of-type {\n",
       "        vertical-align: middle;\n",
       "    }\n",
       "\n",
       "    .dataframe tbody tr th {\n",
       "        vertical-align: top;\n",
       "    }\n",
       "\n",
       "    .dataframe thead th {\n",
       "        text-align: right;\n",
       "    }\n",
       "</style>\n",
       "<table border=\"1\" class=\"dataframe\">\n",
       "  <thead>\n",
       "    <tr style=\"text-align: right;\">\n",
       "      <th></th>\n",
       "      <th>PassengerId</th>\n",
       "      <th>Pclass</th>\n",
       "      <th>Sex</th>\n",
       "      <th>Age</th>\n",
       "      <th>SibSp</th>\n",
       "      <th>Parch</th>\n",
       "      <th>Fare</th>\n",
       "      <th>Embarked</th>\n",
       "      <th>CabinLetter</th>\n",
       "      <th>CabinNum</th>\n",
       "      <th>TicketSpecial</th>\n",
       "      <th>NameTitle</th>\n",
       "    </tr>\n",
       "  </thead>\n",
       "  <tbody>\n",
       "    <tr>\n",
       "      <th>0</th>\n",
       "      <td>892</td>\n",
       "      <td>3</td>\n",
       "      <td>male</td>\n",
       "      <td>34.5</td>\n",
       "      <td>0</td>\n",
       "      <td>0</td>\n",
       "      <td>7.8292</td>\n",
       "      <td>Q</td>\n",
       "      <td>N</td>\n",
       "      <td>0</td>\n",
       "      <td>0</td>\n",
       "      <td>Standard</td>\n",
       "    </tr>\n",
       "    <tr>\n",
       "      <th>1</th>\n",
       "      <td>893</td>\n",
       "      <td>3</td>\n",
       "      <td>female</td>\n",
       "      <td>47.0</td>\n",
       "      <td>1</td>\n",
       "      <td>0</td>\n",
       "      <td>7.0000</td>\n",
       "      <td>S</td>\n",
       "      <td>N</td>\n",
       "      <td>0</td>\n",
       "      <td>0</td>\n",
       "      <td>Standard</td>\n",
       "    </tr>\n",
       "    <tr>\n",
       "      <th>2</th>\n",
       "      <td>894</td>\n",
       "      <td>2</td>\n",
       "      <td>male</td>\n",
       "      <td>62.0</td>\n",
       "      <td>0</td>\n",
       "      <td>0</td>\n",
       "      <td>9.6875</td>\n",
       "      <td>Q</td>\n",
       "      <td>N</td>\n",
       "      <td>0</td>\n",
       "      <td>0</td>\n",
       "      <td>Standard</td>\n",
       "    </tr>\n",
       "    <tr>\n",
       "      <th>3</th>\n",
       "      <td>895</td>\n",
       "      <td>3</td>\n",
       "      <td>male</td>\n",
       "      <td>27.0</td>\n",
       "      <td>0</td>\n",
       "      <td>0</td>\n",
       "      <td>8.6625</td>\n",
       "      <td>S</td>\n",
       "      <td>N</td>\n",
       "      <td>0</td>\n",
       "      <td>0</td>\n",
       "      <td>Standard</td>\n",
       "    </tr>\n",
       "    <tr>\n",
       "      <th>4</th>\n",
       "      <td>896</td>\n",
       "      <td>3</td>\n",
       "      <td>female</td>\n",
       "      <td>22.0</td>\n",
       "      <td>1</td>\n",
       "      <td>1</td>\n",
       "      <td>12.2875</td>\n",
       "      <td>S</td>\n",
       "      <td>N</td>\n",
       "      <td>0</td>\n",
       "      <td>0</td>\n",
       "      <td>Standard</td>\n",
       "    </tr>\n",
       "  </tbody>\n",
       "</table>\n",
       "</div>"
      ],
      "text/plain": [
       "   PassengerId Pclass     Sex   Age  SibSp  Parch     Fare Embarked  \\\n",
       "0          892      3    male  34.5      0      0   7.8292        Q   \n",
       "1          893      3  female  47.0      1      0   7.0000        S   \n",
       "2          894      2    male  62.0      0      0   9.6875        Q   \n",
       "3          895      3    male  27.0      0      0   8.6625        S   \n",
       "4          896      3  female  22.0      1      1  12.2875        S   \n",
       "\n",
       "  CabinLetter  CabinNum  TicketSpecial NameTitle  \n",
       "0           N         0              0  Standard  \n",
       "1           N         0              0  Standard  \n",
       "2           N         0              0  Standard  \n",
       "3           N         0              0  Standard  \n",
       "4           N         0              0  Standard  "
      ]
     },
     "execution_count": 128,
     "metadata": {},
     "output_type": "execute_result"
    }
   ],
   "source": [
    "titanic_test.head()"
   ]
  },
  {
   "cell_type": "markdown",
   "id": "460501f2",
   "metadata": {},
   "source": [
    "### Final Submission"
   ]
  },
  {
   "cell_type": "code",
   "execution_count": 129,
   "id": "f571083d",
   "metadata": {},
   "outputs": [],
   "source": [
    "#convert output to dataframe \n",
    "final_data = {'PassengerId': titanic_test.PassengerId, 'Survived': svm_model_best.predict(titanic_test.drop('PassengerId', axis = 1))}\n",
    "submission = pd.DataFrame(data=final_data)"
   ]
  },
  {
   "cell_type": "code",
   "execution_count": 130,
   "id": "682a1487",
   "metadata": {},
   "outputs": [
    {
     "data": {
      "text/plain": [
       "0    0.616162\n",
       "1    0.383838\n",
       "Name: Survived, dtype: float64"
      ]
     },
     "execution_count": 130,
     "metadata": {},
     "output_type": "execute_result"
    }
   ],
   "source": [
    "titanic_training.Survived.value_counts()/len(titanic_training.Survived)"
   ]
  },
  {
   "cell_type": "code",
   "execution_count": 131,
   "id": "94acba1f",
   "metadata": {},
   "outputs": [
    {
     "data": {
      "text/plain": [
       "0    0.65311\n",
       "1    0.34689\n",
       "Name: Survived, dtype: float64"
      ]
     },
     "execution_count": 131,
     "metadata": {},
     "output_type": "execute_result"
    }
   ],
   "source": [
    "submission.Survived.value_counts()/len(submission.Survived)"
   ]
  },
  {
   "cell_type": "code",
   "execution_count": 132,
   "id": "f12c4f4f",
   "metadata": {},
   "outputs": [
    {
     "data": {
      "text/html": [
       "<div>\n",
       "<style scoped>\n",
       "    .dataframe tbody tr th:only-of-type {\n",
       "        vertical-align: middle;\n",
       "    }\n",
       "\n",
       "    .dataframe tbody tr th {\n",
       "        vertical-align: top;\n",
       "    }\n",
       "\n",
       "    .dataframe thead th {\n",
       "        text-align: right;\n",
       "    }\n",
       "</style>\n",
       "<table border=\"1\" class=\"dataframe\">\n",
       "  <thead>\n",
       "    <tr style=\"text-align: right;\">\n",
       "      <th></th>\n",
       "      <th>PassengerId</th>\n",
       "      <th>Survived</th>\n",
       "    </tr>\n",
       "  </thead>\n",
       "  <tbody>\n",
       "    <tr>\n",
       "      <th>0</th>\n",
       "      <td>892</td>\n",
       "      <td>0</td>\n",
       "    </tr>\n",
       "    <tr>\n",
       "      <th>1</th>\n",
       "      <td>893</td>\n",
       "      <td>0</td>\n",
       "    </tr>\n",
       "    <tr>\n",
       "      <th>2</th>\n",
       "      <td>894</td>\n",
       "      <td>0</td>\n",
       "    </tr>\n",
       "    <tr>\n",
       "      <th>3</th>\n",
       "      <td>895</td>\n",
       "      <td>0</td>\n",
       "    </tr>\n",
       "    <tr>\n",
       "      <th>4</th>\n",
       "      <td>896</td>\n",
       "      <td>0</td>\n",
       "    </tr>\n",
       "  </tbody>\n",
       "</table>\n",
       "</div>"
      ],
      "text/plain": [
       "   PassengerId  Survived\n",
       "0          892         0\n",
       "1          893         0\n",
       "2          894         0\n",
       "3          895         0\n",
       "4          896         0"
      ]
     },
     "execution_count": 132,
     "metadata": {},
     "output_type": "execute_result"
    }
   ],
   "source": [
    "submission.shape\n",
    "submission.head()"
   ]
  },
  {
   "cell_type": "code",
   "execution_count": 133,
   "id": "02c41b15",
   "metadata": {},
   "outputs": [],
   "source": [
    "submission.to_csv('submission_8.csv', index =False)"
   ]
  }
 ],
 "metadata": {
  "kernelspec": {
   "display_name": "Python 3",
   "language": "python",
   "name": "python3"
  },
  "language_info": {
   "codemirror_mode": {
    "name": "ipython",
    "version": 3
   },
   "file_extension": ".py",
   "mimetype": "text/x-python",
   "name": "python",
   "nbconvert_exporter": "python",
   "pygments_lexer": "ipython3",
   "version": "3.8.8"
  }
 },
 "nbformat": 4,
 "nbformat_minor": 5
}
